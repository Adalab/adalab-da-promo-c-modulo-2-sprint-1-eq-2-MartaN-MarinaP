{
 "cells": [
  {
   "cell_type": "code",
   "execution_count": 1,
   "metadata": {},
   "outputs": [],
   "source": [
    "from pydataset import data"
   ]
  },
  {
   "cell_type": "code",
   "execution_count": 2,
   "metadata": {},
   "outputs": [],
   "source": [
    "import numpy as np\n",
    "import pandas as pd\n",
    "import seaborn as sns\n",
    "from scipy.stats import skew\n",
    "import scipy.stats as st\n",
    "import matplotlib.pyplot as plt\n"
   ]
  },
  {
   "cell_type": "code",
   "execution_count": 3,
   "metadata": {},
   "outputs": [],
   "source": [
    "df= pd.read_csv(\"sephora_website_dataset.csv\")"
   ]
  },
  {
   "attachments": {},
   "cell_type": "markdown",
   "metadata": {},
   "source": [
    "1. Extraer los siguentes estadísiticos del conjunto de datos para varias de las varibles disponibles:\n",
    "Tabla de contingencia\n",
    "Coeficiente de correlación de las variables numéricas del dataset.\n",
    "Sesgos de alguna de las variables numéricas del dataset.\n",
    "Intervalo de confianza de algunas de las variables numéricas del dataset"
   ]
  },
  {
   "cell_type": "code",
   "execution_count": 32,
   "metadata": {},
   "outputs": [
    {
     "name": "stdout",
     "output_type": "stream",
     "text": [
      "<class 'pandas.core.frame.DataFrame'>\n",
      "RangeIndex: 9168 entries, 0 to 9167\n",
      "Data columns (total 21 columns):\n",
      " #   Column                  Non-Null Count  Dtype  \n",
      "---  ------                  --------------  -----  \n",
      " 0   id                      9168 non-null   int64  \n",
      " 1   brand                   9168 non-null   object \n",
      " 2   category                9168 non-null   object \n",
      " 3   name                    9168 non-null   object \n",
      " 4   size                    9168 non-null   object \n",
      " 5   rating                  9168 non-null   float64\n",
      " 6   number_of_reviews       9168 non-null   int64  \n",
      " 7   love                    9168 non-null   int64  \n",
      " 8   price                   9168 non-null   float64\n",
      " 9   value_price             9168 non-null   float64\n",
      " 10  URL                     9168 non-null   object \n",
      " 11  MarketingFlags          9168 non-null   bool   \n",
      " 12  MarketingFlags_content  9168 non-null   object \n",
      " 13  options                 9168 non-null   object \n",
      " 14  details                 9168 non-null   object \n",
      " 15  how_to_use              9168 non-null   object \n",
      " 16  ingredients             9168 non-null   object \n",
      " 17  online_only             9168 non-null   int64  \n",
      " 18  exclusive               9168 non-null   int64  \n",
      " 19  limited_edition         9168 non-null   int64  \n",
      " 20  limited_time_offer      9168 non-null   int64  \n",
      "dtypes: bool(1), float64(3), int64(7), object(10)\n",
      "memory usage: 1.4+ MB\n"
     ]
    }
   ],
   "source": [
    "df.info()"
   ]
  },
  {
   "cell_type": "code",
   "execution_count": 12,
   "metadata": {},
   "outputs": [
    {
     "data": {
      "text/html": [
       "<div>\n",
       "<style scoped>\n",
       "    .dataframe tbody tr th:only-of-type {\n",
       "        vertical-align: middle;\n",
       "    }\n",
       "\n",
       "    .dataframe tbody tr th {\n",
       "        vertical-align: top;\n",
       "    }\n",
       "\n",
       "    .dataframe thead th {\n",
       "        text-align: right;\n",
       "    }\n",
       "</style>\n",
       "<table border=\"1\" class=\"dataframe\">\n",
       "  <thead>\n",
       "    <tr style=\"text-align: right;\">\n",
       "      <th></th>\n",
       "      <th>brand</th>\n",
       "      <th>category</th>\n",
       "      <th>name</th>\n",
       "      <th>size</th>\n",
       "      <th>URL</th>\n",
       "      <th>MarketingFlags_content</th>\n",
       "      <th>options</th>\n",
       "      <th>details</th>\n",
       "      <th>how_to_use</th>\n",
       "      <th>ingredients</th>\n",
       "    </tr>\n",
       "  </thead>\n",
       "  <tbody>\n",
       "    <tr>\n",
       "      <th>count</th>\n",
       "      <td>9168</td>\n",
       "      <td>9168</td>\n",
       "      <td>9168</td>\n",
       "      <td>9168</td>\n",
       "      <td>9168</td>\n",
       "      <td>9168</td>\n",
       "      <td>9168</td>\n",
       "      <td>9168</td>\n",
       "      <td>9168</td>\n",
       "      <td>9168</td>\n",
       "    </tr>\n",
       "    <tr>\n",
       "      <th>unique</th>\n",
       "      <td>324</td>\n",
       "      <td>143</td>\n",
       "      <td>9106</td>\n",
       "      <td>1623</td>\n",
       "      <td>9168</td>\n",
       "      <td>10</td>\n",
       "      <td>564</td>\n",
       "      <td>8839</td>\n",
       "      <td>6497</td>\n",
       "      <td>6962</td>\n",
       "    </tr>\n",
       "    <tr>\n",
       "      <th>top</th>\n",
       "      <td>SEPHORA COLLECTION</td>\n",
       "      <td>Perfume</td>\n",
       "      <td>Blush</td>\n",
       "      <td>no size</td>\n",
       "      <td>https://www.sephora.com/product/blu-mediterran...</td>\n",
       "      <td>0</td>\n",
       "      <td>no options</td>\n",
       "      <td>no details</td>\n",
       "      <td>no instructions</td>\n",
       "      <td>unknown</td>\n",
       "    </tr>\n",
       "    <tr>\n",
       "      <th>freq</th>\n",
       "      <td>496</td>\n",
       "      <td>665</td>\n",
       "      <td>4</td>\n",
       "      <td>3161</td>\n",
       "      <td>1</td>\n",
       "      <td>4786</td>\n",
       "      <td>8377</td>\n",
       "      <td>14</td>\n",
       "      <td>1573</td>\n",
       "      <td>1630</td>\n",
       "    </tr>\n",
       "  </tbody>\n",
       "</table>\n",
       "</div>"
      ],
      "text/plain": [
       "                     brand category   name     size  \\\n",
       "count                 9168     9168   9168     9168   \n",
       "unique                 324      143   9106     1623   \n",
       "top     SEPHORA COLLECTION  Perfume  Blush  no size   \n",
       "freq                   496      665      4     3161   \n",
       "\n",
       "                                                      URL  \\\n",
       "count                                                9168   \n",
       "unique                                               9168   \n",
       "top     https://www.sephora.com/product/blu-mediterran...   \n",
       "freq                                                    1   \n",
       "\n",
       "       MarketingFlags_content     options     details       how_to_use  \\\n",
       "count                    9168        9168        9168             9168   \n",
       "unique                     10         564        8839             6497   \n",
       "top                         0  no options  no details  no instructions   \n",
       "freq                     4786        8377          14             1573   \n",
       "\n",
       "       ingredients  \n",
       "count         9168  \n",
       "unique        6962  \n",
       "top        unknown  \n",
       "freq          1630  "
      ]
     },
     "execution_count": 12,
     "metadata": {},
     "output_type": "execute_result"
    }
   ],
   "source": [
    "df.describe(include=object)"
   ]
  },
  {
   "cell_type": "code",
   "execution_count": 58,
   "metadata": {},
   "outputs": [
    {
     "data": {
      "text/html": [
       "<div>\n",
       "<style scoped>\n",
       "    .dataframe tbody tr th:only-of-type {\n",
       "        vertical-align: middle;\n",
       "    }\n",
       "\n",
       "    .dataframe tbody tr th {\n",
       "        vertical-align: top;\n",
       "    }\n",
       "\n",
       "    .dataframe thead th {\n",
       "        text-align: right;\n",
       "    }\n",
       "</style>\n",
       "<table border=\"1\" class=\"dataframe\">\n",
       "  <thead>\n",
       "    <tr style=\"text-align: right;\">\n",
       "      <th>category</th>\n",
       "      <th>Accessories</th>\n",
       "      <th>After Sun Care</th>\n",
       "      <th>Aftershave</th>\n",
       "      <th>Anti-Aging</th>\n",
       "      <th>BB &amp; CC Cream</th>\n",
       "      <th>BB &amp; CC Creams</th>\n",
       "      <th>Bath &amp; Body</th>\n",
       "      <th>Bath &amp; Shower</th>\n",
       "      <th>Bath Soaks &amp; Bubble Bath</th>\n",
       "      <th>Beauty Supplements</th>\n",
       "      <th>...</th>\n",
       "      <th>Spa Tools</th>\n",
       "      <th>Sponges &amp; Applicators</th>\n",
       "      <th>Sunscreen</th>\n",
       "      <th>Teeth Whitening</th>\n",
       "      <th>Tinted Moisturizer</th>\n",
       "      <th>Toners</th>\n",
       "      <th>Tweezers &amp; Eyebrow Tools</th>\n",
       "      <th>Value &amp; Gift Sets</th>\n",
       "      <th>Wellness</th>\n",
       "      <th>no category</th>\n",
       "    </tr>\n",
       "    <tr>\n",
       "      <th>brand</th>\n",
       "      <th></th>\n",
       "      <th></th>\n",
       "      <th></th>\n",
       "      <th></th>\n",
       "      <th></th>\n",
       "      <th></th>\n",
       "      <th></th>\n",
       "      <th></th>\n",
       "      <th></th>\n",
       "      <th></th>\n",
       "      <th></th>\n",
       "      <th></th>\n",
       "      <th></th>\n",
       "      <th></th>\n",
       "      <th></th>\n",
       "      <th></th>\n",
       "      <th></th>\n",
       "      <th></th>\n",
       "      <th></th>\n",
       "      <th></th>\n",
       "      <th></th>\n",
       "    </tr>\n",
       "  </thead>\n",
       "  <tbody>\n",
       "    <tr>\n",
       "      <th>8Greens</th>\n",
       "      <td>0</td>\n",
       "      <td>0</td>\n",
       "      <td>0</td>\n",
       "      <td>0</td>\n",
       "      <td>0</td>\n",
       "      <td>0</td>\n",
       "      <td>0</td>\n",
       "      <td>0</td>\n",
       "      <td>0</td>\n",
       "      <td>3</td>\n",
       "      <td>...</td>\n",
       "      <td>0</td>\n",
       "      <td>0</td>\n",
       "      <td>0</td>\n",
       "      <td>0</td>\n",
       "      <td>0</td>\n",
       "      <td>0</td>\n",
       "      <td>0</td>\n",
       "      <td>0</td>\n",
       "      <td>0</td>\n",
       "      <td>0</td>\n",
       "    </tr>\n",
       "    <tr>\n",
       "      <th>AERIN</th>\n",
       "      <td>0</td>\n",
       "      <td>0</td>\n",
       "      <td>0</td>\n",
       "      <td>0</td>\n",
       "      <td>0</td>\n",
       "      <td>0</td>\n",
       "      <td>0</td>\n",
       "      <td>0</td>\n",
       "      <td>0</td>\n",
       "      <td>0</td>\n",
       "      <td>...</td>\n",
       "      <td>0</td>\n",
       "      <td>0</td>\n",
       "      <td>0</td>\n",
       "      <td>0</td>\n",
       "      <td>0</td>\n",
       "      <td>0</td>\n",
       "      <td>0</td>\n",
       "      <td>0</td>\n",
       "      <td>0</td>\n",
       "      <td>1</td>\n",
       "    </tr>\n",
       "    <tr>\n",
       "      <th>ALTERNA Haircare</th>\n",
       "      <td>0</td>\n",
       "      <td>0</td>\n",
       "      <td>0</td>\n",
       "      <td>0</td>\n",
       "      <td>0</td>\n",
       "      <td>0</td>\n",
       "      <td>0</td>\n",
       "      <td>0</td>\n",
       "      <td>0</td>\n",
       "      <td>0</td>\n",
       "      <td>...</td>\n",
       "      <td>0</td>\n",
       "      <td>0</td>\n",
       "      <td>0</td>\n",
       "      <td>0</td>\n",
       "      <td>0</td>\n",
       "      <td>0</td>\n",
       "      <td>0</td>\n",
       "      <td>2</td>\n",
       "      <td>0</td>\n",
       "      <td>0</td>\n",
       "    </tr>\n",
       "  </tbody>\n",
       "</table>\n",
       "<p>3 rows × 143 columns</p>\n",
       "</div>"
      ],
      "text/plain": [
       "category          Accessories  After Sun Care  Aftershave  Anti-Aging  \\\n",
       "brand                                                                   \n",
       "8Greens                     0               0           0           0   \n",
       "AERIN                       0               0           0           0   \n",
       "ALTERNA Haircare            0               0           0           0   \n",
       "\n",
       "category          BB & CC Cream  BB & CC Creams  Bath & Body  Bath & Shower  \\\n",
       "brand                                                                         \n",
       "8Greens                       0               0            0              0   \n",
       "AERIN                         0               0            0              0   \n",
       "ALTERNA Haircare              0               0            0              0   \n",
       "\n",
       "category          Bath Soaks & Bubble Bath  Beauty Supplements  ...  \\\n",
       "brand                                                           ...   \n",
       "8Greens                                  0                   3  ...   \n",
       "AERIN                                    0                   0  ...   \n",
       "ALTERNA Haircare                         0                   0  ...   \n",
       "\n",
       "category          Spa Tools  Sponges & Applicators  Sunscreen  \\\n",
       "brand                                                           \n",
       "8Greens                   0                      0          0   \n",
       "AERIN                     0                      0          0   \n",
       "ALTERNA Haircare          0                      0          0   \n",
       "\n",
       "category          Teeth Whitening  Tinted Moisturizer  Toners  \\\n",
       "brand                                                           \n",
       "8Greens                         0                   0       0   \n",
       "AERIN                           0                   0       0   \n",
       "ALTERNA Haircare                0                   0       0   \n",
       "\n",
       "category          Tweezers & Eyebrow Tools  Value & Gift Sets  Wellness  \\\n",
       "brand                                                                     \n",
       "8Greens                                  0                  0         0   \n",
       "AERIN                                    0                  0         0   \n",
       "ALTERNA Haircare                         0                  2         0   \n",
       "\n",
       "category          no category  \n",
       "brand                          \n",
       "8Greens                     0  \n",
       "AERIN                       1  \n",
       "ALTERNA Haircare            0  \n",
       "\n",
       "[3 rows x 143 columns]"
      ]
     },
     "execution_count": 58,
     "metadata": {},
     "output_type": "execute_result"
    }
   ],
   "source": [
    "#tabla de contingencia\n",
    "tabla_contingencia= pd.crosstab (df['brand'], df['category'])\n",
    "tabla_contingencia.head(3)"
   ]
  },
  {
   "cell_type": "code",
   "execution_count": 59,
   "metadata": {},
   "outputs": [
    {
     "data": {
      "text/plain": [
       "Index(['Accessories', 'After Sun Care', 'Aftershave', 'Anti-Aging',\n",
       "       'BB & CC Cream', 'BB & CC Creams', 'Bath & Body', 'Bath & Shower',\n",
       "       'Bath Soaks & Bubble Bath', 'Beauty Supplements',\n",
       "       ...\n",
       "       'Spa Tools', 'Sponges & Applicators', 'Sunscreen', 'Teeth Whitening',\n",
       "       'Tinted Moisturizer', 'Toners', 'Tweezers & Eyebrow Tools',\n",
       "       'Value & Gift Sets', 'Wellness', 'no category'],\n",
       "      dtype='object', name='category', length=143)"
      ]
     },
     "execution_count": 59,
     "metadata": {},
     "output_type": "execute_result"
    }
   ],
   "source": [
    "tabla_contingencia.columns"
   ]
  },
  {
   "cell_type": "code",
   "execution_count": 42,
   "metadata": {},
   "outputs": [
    {
     "data": {
      "text/html": [
       "<div>\n",
       "<style scoped>\n",
       "    .dataframe tbody tr th:only-of-type {\n",
       "        vertical-align: middle;\n",
       "    }\n",
       "\n",
       "    .dataframe tbody tr th {\n",
       "        vertical-align: top;\n",
       "    }\n",
       "\n",
       "    .dataframe thead th {\n",
       "        text-align: right;\n",
       "    }\n",
       "</style>\n",
       "<table border=\"1\" class=\"dataframe\">\n",
       "  <thead>\n",
       "    <tr style=\"text-align: right;\">\n",
       "      <th>brand</th>\n",
       "      <th>8Greens</th>\n",
       "      <th>AERIN</th>\n",
       "      <th>ALTERNA Haircare</th>\n",
       "      <th>AMOREPACIFIC</th>\n",
       "      <th>Acqua Di Parma</th>\n",
       "      <th>Aether Beauty</th>\n",
       "      <th>Algenist</th>\n",
       "      <th>Alpha-H</th>\n",
       "      <th>Anastasia Beverly Hills</th>\n",
       "      <th>Anthony</th>\n",
       "      <th>...</th>\n",
       "      <th>lilah b.</th>\n",
       "      <th>lululemon selfcare</th>\n",
       "      <th>philosophy</th>\n",
       "      <th>rag &amp; bone</th>\n",
       "      <th>rms beauty</th>\n",
       "      <th>shu uemura</th>\n",
       "      <th>stila</th>\n",
       "      <th>surratt beauty</th>\n",
       "      <th>tarte</th>\n",
       "      <th>trèStiQue</th>\n",
       "    </tr>\n",
       "    <tr>\n",
       "      <th>MarketingFlags_content</th>\n",
       "      <th></th>\n",
       "      <th></th>\n",
       "      <th></th>\n",
       "      <th></th>\n",
       "      <th></th>\n",
       "      <th></th>\n",
       "      <th></th>\n",
       "      <th></th>\n",
       "      <th></th>\n",
       "      <th></th>\n",
       "      <th></th>\n",
       "      <th></th>\n",
       "      <th></th>\n",
       "      <th></th>\n",
       "      <th></th>\n",
       "      <th></th>\n",
       "      <th></th>\n",
       "      <th></th>\n",
       "      <th></th>\n",
       "      <th></th>\n",
       "      <th></th>\n",
       "    </tr>\n",
       "  </thead>\n",
       "  <tbody>\n",
       "    <tr>\n",
       "      <th>0</th>\n",
       "      <td>1</td>\n",
       "      <td>1</td>\n",
       "      <td>0</td>\n",
       "      <td>22</td>\n",
       "      <td>1</td>\n",
       "      <td>3</td>\n",
       "      <td>26</td>\n",
       "      <td>3</td>\n",
       "      <td>57</td>\n",
       "      <td>12</td>\n",
       "      <td>...</td>\n",
       "      <td>10</td>\n",
       "      <td>0</td>\n",
       "      <td>66</td>\n",
       "      <td>0</td>\n",
       "      <td>8</td>\n",
       "      <td>31</td>\n",
       "      <td>7</td>\n",
       "      <td>22</td>\n",
       "      <td>92</td>\n",
       "      <td>2</td>\n",
       "    </tr>\n",
       "    <tr>\n",
       "      <th>exclusive</th>\n",
       "      <td>0</td>\n",
       "      <td>0</td>\n",
       "      <td>0</td>\n",
       "      <td>2</td>\n",
       "      <td>0</td>\n",
       "      <td>0</td>\n",
       "      <td>18</td>\n",
       "      <td>1</td>\n",
       "      <td>1</td>\n",
       "      <td>0</td>\n",
       "      <td>...</td>\n",
       "      <td>0</td>\n",
       "      <td>0</td>\n",
       "      <td>1</td>\n",
       "      <td>6</td>\n",
       "      <td>1</td>\n",
       "      <td>0</td>\n",
       "      <td>0</td>\n",
       "      <td>2</td>\n",
       "      <td>38</td>\n",
       "      <td>0</td>\n",
       "    </tr>\n",
       "  </tbody>\n",
       "</table>\n",
       "<p>2 rows × 324 columns</p>\n",
       "</div>"
      ],
      "text/plain": [
       "brand                   8Greens  AERIN  ALTERNA Haircare  AMOREPACIFIC  \\\n",
       "MarketingFlags_content                                                   \n",
       "0                             1      1                 0            22   \n",
       "exclusive                     0      0                 0             2   \n",
       "\n",
       "brand                   Acqua Di Parma  Aether Beauty  Algenist  Alpha-H  \\\n",
       "MarketingFlags_content                                                     \n",
       "0                                    1              3        26        3   \n",
       "exclusive                            0              0        18        1   \n",
       "\n",
       "brand                   Anastasia Beverly Hills  Anthony  ...  lilah b.  \\\n",
       "MarketingFlags_content                                    ...             \n",
       "0                                            57       12  ...        10   \n",
       "exclusive                                     1        0  ...         0   \n",
       "\n",
       "brand                   lululemon selfcare  philosophy  rag & bone  \\\n",
       "MarketingFlags_content                                               \n",
       "0                                        0          66           0   \n",
       "exclusive                                0           1           6   \n",
       "\n",
       "brand                   rms beauty  shu uemura  stila  surratt beauty  tarte  \\\n",
       "MarketingFlags_content                                                         \n",
       "0                                8          31      7              22     92   \n",
       "exclusive                        1           0      0               2     38   \n",
       "\n",
       "brand                   trèStiQue  \n",
       "MarketingFlags_content             \n",
       "0                               2  \n",
       "exclusive                       0  \n",
       "\n",
       "[2 rows x 324 columns]"
      ]
     },
     "execution_count": 42,
     "metadata": {},
     "output_type": "execute_result"
    }
   ],
   "source": [
    "tabla_contingencia2= pd.crosstab (df['MarketingFlags_content'], df['brand'])\n",
    "tabla_contingencia2.head(2)"
   ]
  },
  {
   "cell_type": "code",
   "execution_count": 60,
   "metadata": {},
   "outputs": [
    {
     "data": {
      "text/plain": [
       "Index(['8Greens', 'AERIN', 'ALTERNA Haircare', 'AMOREPACIFIC',\n",
       "       'Acqua Di Parma', 'Aether Beauty', 'Algenist', 'Alpha-H',\n",
       "       'Anastasia Beverly Hills', 'Anthony',\n",
       "       ...\n",
       "       'lilah b.', 'lululemon selfcare', 'philosophy', 'rag & bone',\n",
       "       'rms beauty', 'shu uemura', 'stila', 'surratt beauty', 'tarte',\n",
       "       'trèStiQue'],\n",
       "      dtype='object', name='brand', length=324)"
      ]
     },
     "execution_count": 60,
     "metadata": {},
     "output_type": "execute_result"
    }
   ],
   "source": [
    "tabla_contingencia2.columns"
   ]
  },
  {
   "cell_type": "code",
   "execution_count": 10,
   "metadata": {},
   "outputs": [
    {
     "name": "stdout",
     "output_type": "stream",
     "text": [
      "1300000\n",
      "4800.0\n",
      "16278.585078534032\n"
     ]
    }
   ],
   "source": [
    "#para sacar una tabla de contingencia mejor vamos a convertir cunatitativa en categorica\n",
    "#lo hacemos con la col love y para ello investigamos un poco los estadisticos de esa col\n",
    "print(df['love'].max())\n",
    "print(df['love'].median())\n",
    "print(df['love'].mean())"
   ]
  },
  {
   "cell_type": "code",
   "execution_count": 23,
   "metadata": {},
   "outputs": [],
   "source": [
    "# definimos una función que nos divida los datos en categorias\n",
    "def categoria_love (col):\n",
    "    if col <= 4800:\n",
    "        return \"bajo\"\n",
    "    elif col > 4800 and col <= 16278:\n",
    "        return \"medio\"\n",
    "    else:\n",
    "        return \"alto\""
   ]
  },
  {
   "cell_type": "code",
   "execution_count": 24,
   "metadata": {},
   "outputs": [],
   "source": [
    "df['love_cat'] = df['love'].apply(categoria_love)"
   ]
  },
  {
   "cell_type": "code",
   "execution_count": 25,
   "metadata": {},
   "outputs": [
    {
     "name": "stdout",
     "output_type": "stream",
     "text": [
      "549.0\n",
      "50.06323734729494\n",
      "35.0\n"
     ]
    }
   ],
   "source": [
    "#y repetimos la operacion para la categoria de precio\n",
    "max= df['price'].max()\n",
    "mediana = df['price'].median()\n",
    "media= df['price'].mean()\n",
    "print (max)\n",
    "print(media)\n",
    "print(mediana)"
   ]
  },
  {
   "cell_type": "code",
   "execution_count": 26,
   "metadata": {},
   "outputs": [],
   "source": [
    "#categorizamos el precio\n",
    "def categoria_precio (col):\n",
    "    if col <= mediana:\n",
    "        return \"bajo\"\n",
    "    elif col > mediana and col <= media:\n",
    "        return \"medio\"\n",
    "    else:\n",
    "        return \"alto\""
   ]
  },
  {
   "cell_type": "code",
   "execution_count": 27,
   "metadata": {},
   "outputs": [],
   "source": [
    "df['price_cat'] = df['price'].apply(categoria_precio)"
   ]
  },
  {
   "cell_type": "code",
   "execution_count": 28,
   "metadata": {},
   "outputs": [
    {
     "data": {
      "text/html": [
       "<div>\n",
       "<style scoped>\n",
       "    .dataframe tbody tr th:only-of-type {\n",
       "        vertical-align: middle;\n",
       "    }\n",
       "\n",
       "    .dataframe tbody tr th {\n",
       "        vertical-align: top;\n",
       "    }\n",
       "\n",
       "    .dataframe thead th {\n",
       "        text-align: right;\n",
       "    }\n",
       "</style>\n",
       "<table border=\"1\" class=\"dataframe\">\n",
       "  <thead>\n",
       "    <tr style=\"text-align: right;\">\n",
       "      <th>price_cat</th>\n",
       "      <th>alto</th>\n",
       "      <th>bajo</th>\n",
       "      <th>medio</th>\n",
       "    </tr>\n",
       "    <tr>\n",
       "      <th>love_cat</th>\n",
       "      <th></th>\n",
       "      <th></th>\n",
       "      <th></th>\n",
       "    </tr>\n",
       "  </thead>\n",
       "  <tbody>\n",
       "    <tr>\n",
       "      <th>alto</th>\n",
       "      <td>363</td>\n",
       "      <td>1180</td>\n",
       "      <td>469</td>\n",
       "    </tr>\n",
       "    <tr>\n",
       "      <th>bajo</th>\n",
       "      <td>1686</td>\n",
       "      <td>2167</td>\n",
       "      <td>773</td>\n",
       "    </tr>\n",
       "    <tr>\n",
       "      <th>medio</th>\n",
       "      <td>681</td>\n",
       "      <td>1359</td>\n",
       "      <td>490</td>\n",
       "    </tr>\n",
       "  </tbody>\n",
       "</table>\n",
       "</div>"
      ],
      "text/plain": [
       "price_cat  alto  bajo  medio\n",
       "love_cat                    \n",
       "alto        363  1180    469\n",
       "bajo       1686  2167    773\n",
       "medio       681  1359    490"
      ]
     },
     "execution_count": 28,
     "metadata": {},
     "output_type": "execute_result"
    }
   ],
   "source": [
    "df_contingencia = pd.crosstab(df['love_cat'], df['price_cat']) \n",
    "df_contingencia"
   ]
  },
  {
   "attachments": {},
   "cell_type": "markdown",
   "metadata": {},
   "source": [
    "En esta tabla vemos como la mayoria de productos que cuentan con alto numero de 'loves' no se corresponden con los que tienen alto precio, sino más bien al contrario, con los que tienen precio bajo (siempre según los rangos de ambas variables establecidos por nosotras mismas) . Sin embargo, los que cuentan con menos 'loves' no son los productos más caros o los más baratos, como cabría esperar, sino que son los productos de precio medio los que parece que no despiertan ningun 'amor'."
   ]
  },
  {
   "cell_type": "code",
   "execution_count": 18,
   "metadata": {},
   "outputs": [
    {
     "data": {
      "text/html": [
       "<div>\n",
       "<style scoped>\n",
       "    .dataframe tbody tr th:only-of-type {\n",
       "        vertical-align: middle;\n",
       "    }\n",
       "\n",
       "    .dataframe tbody tr th {\n",
       "        vertical-align: top;\n",
       "    }\n",
       "\n",
       "    .dataframe thead th {\n",
       "        text-align: right;\n",
       "    }\n",
       "</style>\n",
       "<table border=\"1\" class=\"dataframe\">\n",
       "  <thead>\n",
       "    <tr style=\"text-align: right;\">\n",
       "      <th></th>\n",
       "      <th>id</th>\n",
       "      <th>rating</th>\n",
       "      <th>number_of_reviews</th>\n",
       "      <th>love</th>\n",
       "      <th>price</th>\n",
       "      <th>value_price</th>\n",
       "      <th>MarketingFlags</th>\n",
       "      <th>online_only</th>\n",
       "      <th>exclusive</th>\n",
       "      <th>limited_edition</th>\n",
       "      <th>limited_time_offer</th>\n",
       "    </tr>\n",
       "  </thead>\n",
       "  <tbody>\n",
       "    <tr>\n",
       "      <th>id</th>\n",
       "      <td>1.000000</td>\n",
       "      <td>-0.176684</td>\n",
       "      <td>-0.175482</td>\n",
       "      <td>-0.104208</td>\n",
       "      <td>-0.026661</td>\n",
       "      <td>-0.004168</td>\n",
       "      <td>0.283722</td>\n",
       "      <td>0.153745</td>\n",
       "      <td>0.199285</td>\n",
       "      <td>0.200357</td>\n",
       "      <td>-0.008607</td>\n",
       "    </tr>\n",
       "    <tr>\n",
       "      <th>rating</th>\n",
       "      <td>-0.176684</td>\n",
       "      <td>1.000000</td>\n",
       "      <td>0.081478</td>\n",
       "      <td>0.094788</td>\n",
       "      <td>0.019559</td>\n",
       "      <td>0.001941</td>\n",
       "      <td>-0.108410</td>\n",
       "      <td>-0.123342</td>\n",
       "      <td>-0.001908</td>\n",
       "      <td>-0.130471</td>\n",
       "      <td>0.006164</td>\n",
       "    </tr>\n",
       "    <tr>\n",
       "      <th>number_of_reviews</th>\n",
       "      <td>-0.175482</td>\n",
       "      <td>0.081478</td>\n",
       "      <td>1.000000</td>\n",
       "      <td>0.746099</td>\n",
       "      <td>-0.084001</td>\n",
       "      <td>-0.088855</td>\n",
       "      <td>-0.096984</td>\n",
       "      <td>-0.137082</td>\n",
       "      <td>0.003799</td>\n",
       "      <td>-0.066661</td>\n",
       "      <td>0.000742</td>\n",
       "    </tr>\n",
       "    <tr>\n",
       "      <th>love</th>\n",
       "      <td>-0.104208</td>\n",
       "      <td>0.094788</td>\n",
       "      <td>0.746099</td>\n",
       "      <td>1.000000</td>\n",
       "      <td>-0.088724</td>\n",
       "      <td>-0.091140</td>\n",
       "      <td>-0.057228</td>\n",
       "      <td>-0.138933</td>\n",
       "      <td>0.050957</td>\n",
       "      <td>-0.046750</td>\n",
       "      <td>-0.002879</td>\n",
       "    </tr>\n",
       "    <tr>\n",
       "      <th>price</th>\n",
       "      <td>-0.026661</td>\n",
       "      <td>0.019559</td>\n",
       "      <td>-0.084001</td>\n",
       "      <td>-0.088724</td>\n",
       "      <td>1.000000</td>\n",
       "      <td>0.983357</td>\n",
       "      <td>-0.056920</td>\n",
       "      <td>0.117250</td>\n",
       "      <td>-0.178809</td>\n",
       "      <td>0.015333</td>\n",
       "      <td>-0.009679</td>\n",
       "    </tr>\n",
       "    <tr>\n",
       "      <th>value_price</th>\n",
       "      <td>-0.004168</td>\n",
       "      <td>0.001941</td>\n",
       "      <td>-0.088855</td>\n",
       "      <td>-0.091140</td>\n",
       "      <td>0.983357</td>\n",
       "      <td>1.000000</td>\n",
       "      <td>-0.028660</td>\n",
       "      <td>0.130658</td>\n",
       "      <td>-0.159005</td>\n",
       "      <td>0.079754</td>\n",
       "      <td>-0.009874</td>\n",
       "    </tr>\n",
       "    <tr>\n",
       "      <th>MarketingFlags</th>\n",
       "      <td>0.283722</td>\n",
       "      <td>-0.108410</td>\n",
       "      <td>-0.096984</td>\n",
       "      <td>-0.057228</td>\n",
       "      <td>-0.056920</td>\n",
       "      <td>-0.028660</td>\n",
       "      <td>1.000000</td>\n",
       "      <td>0.578973</td>\n",
       "      <td>0.627080</td>\n",
       "      <td>0.332344</td>\n",
       "      <td>0.018908</td>\n",
       "    </tr>\n",
       "    <tr>\n",
       "      <th>online_only</th>\n",
       "      <td>0.153745</td>\n",
       "      <td>-0.123342</td>\n",
       "      <td>-0.137082</td>\n",
       "      <td>-0.138933</td>\n",
       "      <td>0.117250</td>\n",
       "      <td>0.130658</td>\n",
       "      <td>0.578973</td>\n",
       "      <td>1.000000</td>\n",
       "      <td>-0.077543</td>\n",
       "      <td>0.097353</td>\n",
       "      <td>-0.010023</td>\n",
       "    </tr>\n",
       "    <tr>\n",
       "      <th>exclusive</th>\n",
       "      <td>0.199285</td>\n",
       "      <td>-0.001908</td>\n",
       "      <td>0.003799</td>\n",
       "      <td>0.050957</td>\n",
       "      <td>-0.178809</td>\n",
       "      <td>-0.159005</td>\n",
       "      <td>0.627080</td>\n",
       "      <td>-0.077543</td>\n",
       "      <td>1.000000</td>\n",
       "      <td>0.166162</td>\n",
       "      <td>0.002814</td>\n",
       "    </tr>\n",
       "    <tr>\n",
       "      <th>limited_edition</th>\n",
       "      <td>0.200357</td>\n",
       "      <td>-0.130471</td>\n",
       "      <td>-0.066661</td>\n",
       "      <td>-0.046750</td>\n",
       "      <td>0.015333</td>\n",
       "      <td>0.079754</td>\n",
       "      <td>0.332344</td>\n",
       "      <td>0.097353</td>\n",
       "      <td>0.166162</td>\n",
       "      <td>1.000000</td>\n",
       "      <td>0.015129</td>\n",
       "    </tr>\n",
       "    <tr>\n",
       "      <th>limited_time_offer</th>\n",
       "      <td>-0.008607</td>\n",
       "      <td>0.006164</td>\n",
       "      <td>0.000742</td>\n",
       "      <td>-0.002879</td>\n",
       "      <td>-0.009679</td>\n",
       "      <td>-0.009874</td>\n",
       "      <td>0.018908</td>\n",
       "      <td>-0.010023</td>\n",
       "      <td>0.002814</td>\n",
       "      <td>0.015129</td>\n",
       "      <td>1.000000</td>\n",
       "    </tr>\n",
       "  </tbody>\n",
       "</table>\n",
       "</div>"
      ],
      "text/plain": [
       "                          id    rating  number_of_reviews      love     price  \\\n",
       "id                  1.000000 -0.176684          -0.175482 -0.104208 -0.026661   \n",
       "rating             -0.176684  1.000000           0.081478  0.094788  0.019559   \n",
       "number_of_reviews  -0.175482  0.081478           1.000000  0.746099 -0.084001   \n",
       "love               -0.104208  0.094788           0.746099  1.000000 -0.088724   \n",
       "price              -0.026661  0.019559          -0.084001 -0.088724  1.000000   \n",
       "value_price        -0.004168  0.001941          -0.088855 -0.091140  0.983357   \n",
       "MarketingFlags      0.283722 -0.108410          -0.096984 -0.057228 -0.056920   \n",
       "online_only         0.153745 -0.123342          -0.137082 -0.138933  0.117250   \n",
       "exclusive           0.199285 -0.001908           0.003799  0.050957 -0.178809   \n",
       "limited_edition     0.200357 -0.130471          -0.066661 -0.046750  0.015333   \n",
       "limited_time_offer -0.008607  0.006164           0.000742 -0.002879 -0.009679   \n",
       "\n",
       "                    value_price  MarketingFlags  online_only  exclusive  \\\n",
       "id                    -0.004168        0.283722     0.153745   0.199285   \n",
       "rating                 0.001941       -0.108410    -0.123342  -0.001908   \n",
       "number_of_reviews     -0.088855       -0.096984    -0.137082   0.003799   \n",
       "love                  -0.091140       -0.057228    -0.138933   0.050957   \n",
       "price                  0.983357       -0.056920     0.117250  -0.178809   \n",
       "value_price            1.000000       -0.028660     0.130658  -0.159005   \n",
       "MarketingFlags        -0.028660        1.000000     0.578973   0.627080   \n",
       "online_only            0.130658        0.578973     1.000000  -0.077543   \n",
       "exclusive             -0.159005        0.627080    -0.077543   1.000000   \n",
       "limited_edition        0.079754        0.332344     0.097353   0.166162   \n",
       "limited_time_offer    -0.009874        0.018908    -0.010023   0.002814   \n",
       "\n",
       "                    limited_edition  limited_time_offer  \n",
       "id                         0.200357           -0.008607  \n",
       "rating                    -0.130471            0.006164  \n",
       "number_of_reviews         -0.066661            0.000742  \n",
       "love                      -0.046750           -0.002879  \n",
       "price                      0.015333           -0.009679  \n",
       "value_price                0.079754           -0.009874  \n",
       "MarketingFlags             0.332344            0.018908  \n",
       "online_only                0.097353           -0.010023  \n",
       "exclusive                  0.166162            0.002814  \n",
       "limited_edition            1.000000            0.015129  \n",
       "limited_time_offer         0.015129            1.000000  "
      ]
     },
     "execution_count": 18,
     "metadata": {},
     "output_type": "execute_result"
    }
   ],
   "source": [
    "#Coeficiente de correlación de las variables numéricas del dataset\n",
    "matriz_correlacion = df.corr()\n",
    "matriz_correlacion"
   ]
  },
  {
   "cell_type": "code",
   "execution_count": 69,
   "metadata": {},
   "outputs": [
    {
     "data": {
      "text/plain": [
       "<AxesSubplot:>"
      ]
     },
     "execution_count": 69,
     "metadata": {},
     "output_type": "execute_result"
    },
    {
     "data": {
      "image/png": "[encoded data removed]",
      "text/plain": [
       "<Figure size 720x720 with 2 Axes>"
      ]
     },
     "metadata": {
      "needs_background": "light"
     },
     "output_type": "display_data"
    }
   ],
   "source": [
    "plt.figure(figsize=(10, 10))\n",
    "sns.heatmap(matriz_correlacion, cmap='mako', annot=True)"
   ]
  },
  {
   "attachments": {},
   "cell_type": "markdown",
   "metadata": {},
   "source": [
    "De esta matriz concluimos que los valores con mayor corelación son los de price y value-price, con un 0.98 y los de love y number of reviews. La primera esta clara pero en el segundo caso, cabria pensar que a mayor numero de reseñas, mayor numero de 'loves'. ¿Será que la mayoría de las reseñas son favorables? ¿o simplemente es una cuestión de probabilidad? Necesitariamos tener los datos de 'hates' para averiguarlo."
   ]
  },
  {
   "cell_type": "code",
   "execution_count": 21,
   "metadata": {},
   "outputs": [
    {
     "data": {
      "text/plain": [
       "3.1722892366379725"
      ]
     },
     "execution_count": 21,
     "metadata": {},
     "output_type": "execute_result"
    }
   ],
   "source": [
    "#Sesgos de alguna de las variables numéricas del dataset.\n",
    "skewness = skew(df['price'])\n",
    "skewness"
   ]
  },
  {
   "cell_type": "code",
   "execution_count": 25,
   "metadata": {},
   "outputs": [
    {
     "data": {
      "image/png": "[encoded data removed]",
      "text/plain": [
       "<Figure size 360x360 with 1 Axes>"
      ]
     },
     "metadata": {
      "needs_background": "light"
     },
     "output_type": "display_data"
    }
   ],
   "source": [
    "#comprobamos el sesgo en la grafica displot\n",
    "sns.displot(df[\"price\"], \n",
    "            color = \"red\");\n"
   ]
  },
  {
   "attachments": {},
   "cell_type": "markdown",
   "metadata": {},
   "source": [
    "La distribución de los precios de la muestra es positiva, ya que en la grafica se ve claramente cómo la cola de la derecha es más larga que la de la izquierda. En este caso no podría ser de otra manera porque estamos hablando de precios de venta al publico, nunca pueden ser negativos."
   ]
  },
  {
   "cell_type": "code",
   "execution_count": 29,
   "metadata": {},
   "outputs": [
    {
     "name": "stdout",
     "output_type": "stream",
     "text": [
      "(49.09765821224322, 51.02881648234661)\n"
     ]
    },
    {
     "data": {
      "text/plain": [
       "50.063237347294915"
      ]
     },
     "execution_count": 29,
     "metadata": {},
     "output_type": "execute_result"
    }
   ],
   "source": [
    "#Intervalo de confianza de algunas de las variables numéricas del dataset\n",
    "datos = df['price']\n",
    "print(st.t.interval(alpha=0.95, df=len(datos)-1, loc=np.mean(datos), scale=st.sem(datos)))\n",
    "\n",
    "#el intervalo de confianza esta entre 49.09765821224322, 51.02881648234661 al 95% y comprobamos con la media\n",
    "media= np.mean(datos)\n",
    "media"
   ]
  },
  {
   "attachments": {},
   "cell_type": "markdown",
   "metadata": {},
   "source": [
    "En base a los datos de esta muestra, existe un 95% de probabilidades de que el precio de los productos de Sephora esté entre 49 euros y 51. Así lo indica el intervalo de confianza."
   ]
  }
 ],
 "metadata": {
  "kernelspec": {
   "display_name": "Python 3",
   "language": "python",
   "name": "python3"
  },
  "language_info": {
   "codemirror_mode": {
    "name": "ipython",
    "version": 3
   },
   "file_extension": ".py",
   "mimetype": "text/x-python",
   "name": "python",
   "nbconvert_exporter": "python",
   "pygments_lexer": "ipython3",
   "version": "3.10.9"
  },
  "orig_nbformat": 4,
  "vscode": {
   "interpreter": {
    "hash": "386358fdc1fd0de6900d07d882f42fc953f23690ede61ed9b4d9d7c82a6402d7"
   }
  }
 },
 "nbformat": 4,
 "nbformat_minor": 2
}
