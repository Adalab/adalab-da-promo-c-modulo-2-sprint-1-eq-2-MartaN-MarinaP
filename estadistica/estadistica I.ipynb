{
 "cells": [
  {
   "cell_type": "code",
   "execution_count": 1,
   "metadata": {},
   "outputs": [],
   "source": [
    "import pandas as pd\n",
    "import numpy as np\n",
    "import matplotlib.pyplot as plt\n",
    "import seaborn as sns"
   ]
  },
  {
   "attachments": {},
   "cell_type": "markdown",
   "metadata": {},
   "source": [
    "\n",
    "1. Buscar un conjunto de datos a analizar:\n",
    "    Se recomienda que el conjunto de datos a analizar tenga variables numéricas y categóricas. Ya que también se analizarán.\n"
   ]
  },
  {
   "cell_type": "code",
   "execution_count": 2,
   "metadata": {},
   "outputs": [],
   "source": [
    "df= pd.read_csv(\"FIFA_World_Cup.csv\")"
   ]
  },
  {
   "cell_type": "code",
   "execution_count": 4,
   "metadata": {},
   "outputs": [
    {
     "data": {
      "text/html": [
       "<div>\n",
       "<style scoped>\n",
       "    .dataframe tbody tr th:only-of-type {\n",
       "        vertical-align: middle;\n",
       "    }\n",
       "\n",
       "    .dataframe tbody tr th {\n",
       "        vertical-align: top;\n",
       "    }\n",
       "\n",
       "    .dataframe thead th {\n",
       "        text-align: right;\n",
       "    }\n",
       "</style>\n",
       "<table border=\"1\" class=\"dataframe\">\n",
       "  <thead>\n",
       "    <tr style=\"text-align: right;\">\n",
       "      <th></th>\n",
       "      <th>Year</th>\n",
       "      <th>Hosts</th>\n",
       "      <th>Venues/Cities</th>\n",
       "      <th>Totalattendance †</th>\n",
       "      <th>Matches</th>\n",
       "      <th>Averageattendance</th>\n",
       "      <th>highest attendence of Number</th>\n",
       "      <th>highest attendence of Venue</th>\n",
       "      <th>highest attendence of Game(s)</th>\n",
       "    </tr>\n",
       "  </thead>\n",
       "  <tbody>\n",
       "    <tr>\n",
       "      <th>0</th>\n",
       "      <td>1930</td>\n",
       "      <td>Uruguay</td>\n",
       "      <td>3/1</td>\n",
       "      <td>590,549</td>\n",
       "      <td>18</td>\n",
       "      <td>32,808</td>\n",
       "      <td>93,000</td>\n",
       "      <td>Estadio Centenario, Montevideo</td>\n",
       "      <td>Uruguay 6–1 Yugoslavia, Semi-final</td>\n",
       "    </tr>\n",
       "    <tr>\n",
       "      <th>1</th>\n",
       "      <td>1934</td>\n",
       "      <td>Italy</td>\n",
       "      <td>8/8</td>\n",
       "      <td>363,000</td>\n",
       "      <td>17</td>\n",
       "      <td>21,353</td>\n",
       "      <td>55,000</td>\n",
       "      <td>Stadio Nazionale PNF, Rome</td>\n",
       "      <td>Italy 2–1 Czechoslovakia, Final</td>\n",
       "    </tr>\n",
       "    <tr>\n",
       "      <th>2</th>\n",
       "      <td>1938</td>\n",
       "      <td>France</td>\n",
       "      <td>10/9</td>\n",
       "      <td>375,700</td>\n",
       "      <td>18</td>\n",
       "      <td>20,872</td>\n",
       "      <td>58,455</td>\n",
       "      <td>Olympique de Colombes, Paris</td>\n",
       "      <td>France 1–3 Italy, Quarter-final</td>\n",
       "    </tr>\n",
       "  </tbody>\n",
       "</table>\n",
       "</div>"
      ],
      "text/plain": [
       "   Year     Hosts Venues/Cities Totalattendance †  Matches Averageattendance  \\\n",
       "0  1930   Uruguay           3/1           590,549       18            32,808   \n",
       "1  1934     Italy           8/8           363,000       17            21,353   \n",
       "2  1938    France          10/9           375,700       18            20,872   \n",
       "\n",
       "  highest attendence of Number     highest attendence of Venue  \\\n",
       "0                       93,000  Estadio Centenario, Montevideo   \n",
       "1                       55,000      Stadio Nazionale PNF, Rome   \n",
       "2                       58,455    Olympique de Colombes, Paris   \n",
       "\n",
       "        highest attendence of Game(s)  \n",
       "0  Uruguay 6–1 Yugoslavia, Semi-final  \n",
       "1     Italy 2–1 Czechoslovakia, Final  \n",
       "2     France 1–3 Italy, Quarter-final  "
      ]
     },
     "execution_count": 4,
     "metadata": {},
     "output_type": "execute_result"
    }
   ],
   "source": [
    "df.head(3)"
   ]
  },
  {
   "cell_type": "code",
   "execution_count": 7,
   "metadata": {},
   "outputs": [
    {
     "data": {
      "text/html": [
       "<div>\n",
       "<style scoped>\n",
       "    .dataframe tbody tr th:only-of-type {\n",
       "        vertical-align: middle;\n",
       "    }\n",
       "\n",
       "    .dataframe tbody tr th {\n",
       "        vertical-align: top;\n",
       "    }\n",
       "\n",
       "    .dataframe thead th {\n",
       "        text-align: right;\n",
       "    }\n",
       "</style>\n",
       "<table border=\"1\" class=\"dataframe\">\n",
       "  <thead>\n",
       "    <tr style=\"text-align: right;\">\n",
       "      <th></th>\n",
       "      <th>Year</th>\n",
       "      <th>Matches</th>\n",
       "    </tr>\n",
       "  </thead>\n",
       "  <tbody>\n",
       "    <tr>\n",
       "      <th>count</th>\n",
       "      <td>21.000000</td>\n",
       "      <td>21.000000</td>\n",
       "    </tr>\n",
       "    <tr>\n",
       "      <th>mean</th>\n",
       "      <td>1976.857143</td>\n",
       "      <td>42.857143</td>\n",
       "    </tr>\n",
       "    <tr>\n",
       "      <th>std</th>\n",
       "      <td>26.657618</td>\n",
       "      <td>17.467930</td>\n",
       "    </tr>\n",
       "    <tr>\n",
       "      <th>min</th>\n",
       "      <td>1930.000000</td>\n",
       "      <td>17.000000</td>\n",
       "    </tr>\n",
       "    <tr>\n",
       "      <th>25%</th>\n",
       "      <td>1958.000000</td>\n",
       "      <td>32.000000</td>\n",
       "    </tr>\n",
       "    <tr>\n",
       "      <th>50%</th>\n",
       "      <td>1978.000000</td>\n",
       "      <td>38.000000</td>\n",
       "    </tr>\n",
       "    <tr>\n",
       "      <th>75%</th>\n",
       "      <td>1998.000000</td>\n",
       "      <td>64.000000</td>\n",
       "    </tr>\n",
       "    <tr>\n",
       "      <th>max</th>\n",
       "      <td>2018.000000</td>\n",
       "      <td>64.000000</td>\n",
       "    </tr>\n",
       "  </tbody>\n",
       "</table>\n",
       "</div>"
      ],
      "text/plain": [
       "              Year    Matches\n",
       "count    21.000000  21.000000\n",
       "mean   1976.857143  42.857143\n",
       "std      26.657618  17.467930\n",
       "min    1930.000000  17.000000\n",
       "25%    1958.000000  32.000000\n",
       "50%    1978.000000  38.000000\n",
       "75%    1998.000000  64.000000\n",
       "max    2018.000000  64.000000"
      ]
     },
     "execution_count": 7,
     "metadata": {},
     "output_type": "execute_result"
    }
   ],
   "source": [
    "df.describe()"
   ]
  },
  {
   "cell_type": "code",
   "execution_count": 5,
   "metadata": {},
   "outputs": [
    {
     "data": {
      "text/html": [
       "<div>\n",
       "<style scoped>\n",
       "    .dataframe tbody tr th:only-of-type {\n",
       "        vertical-align: middle;\n",
       "    }\n",
       "\n",
       "    .dataframe tbody tr th {\n",
       "        vertical-align: top;\n",
       "    }\n",
       "\n",
       "    .dataframe thead th {\n",
       "        text-align: right;\n",
       "    }\n",
       "</style>\n",
       "<table border=\"1\" class=\"dataframe\">\n",
       "  <thead>\n",
       "    <tr style=\"text-align: right;\">\n",
       "      <th></th>\n",
       "      <th>Hosts</th>\n",
       "      <th>Venues/Cities</th>\n",
       "      <th>Totalattendance †</th>\n",
       "      <th>Averageattendance</th>\n",
       "      <th>highest attendence of Number</th>\n",
       "      <th>highest attendence of Venue</th>\n",
       "      <th>highest attendence of Game(s)</th>\n",
       "    </tr>\n",
       "  </thead>\n",
       "  <tbody>\n",
       "    <tr>\n",
       "      <th>count</th>\n",
       "      <td>21</td>\n",
       "      <td>21</td>\n",
       "      <td>21</td>\n",
       "      <td>21</td>\n",
       "      <td>21</td>\n",
       "      <td>21</td>\n",
       "      <td>21</td>\n",
       "    </tr>\n",
       "    <tr>\n",
       "      <th>unique</th>\n",
       "      <td>17</td>\n",
       "      <td>14</td>\n",
       "      <td>21</td>\n",
       "      <td>21</td>\n",
       "      <td>21</td>\n",
       "      <td>19</td>\n",
       "      <td>21</td>\n",
       "    </tr>\n",
       "    <tr>\n",
       "      <th>top</th>\n",
       "      <td>Mexico</td>\n",
       "      <td>12/12</td>\n",
       "      <td>590,549</td>\n",
       "      <td>32,808</td>\n",
       "      <td>93,000</td>\n",
       "      <td>Maracanã Stadium, Rio de Janeiro</td>\n",
       "      <td>Uruguay 6–1 Yugoslavia, Semi-final</td>\n",
       "    </tr>\n",
       "    <tr>\n",
       "      <th>freq</th>\n",
       "      <td>2</td>\n",
       "      <td>4</td>\n",
       "      <td>1</td>\n",
       "      <td>1</td>\n",
       "      <td>1</td>\n",
       "      <td>2</td>\n",
       "      <td>1</td>\n",
       "    </tr>\n",
       "  </tbody>\n",
       "</table>\n",
       "</div>"
      ],
      "text/plain": [
       "          Hosts Venues/Cities Totalattendance † Averageattendance  \\\n",
       "count        21            21                21                21   \n",
       "unique       17            14                21                21   \n",
       "top      Mexico         12/12           590,549            32,808   \n",
       "freq          2             4                 1                 1   \n",
       "\n",
       "       highest attendence of Number       highest attendence of Venue  \\\n",
       "count                            21                                21   \n",
       "unique                           21                                19   \n",
       "top                          93,000  Maracanã Stadium, Rio de Janeiro   \n",
       "freq                              1                                 2   \n",
       "\n",
       "             highest attendence of Game(s)  \n",
       "count                                   21  \n",
       "unique                                  21  \n",
       "top     Uruguay 6–1 Yugoslavia, Semi-final  \n",
       "freq                                     1  "
      ]
     },
     "execution_count": 5,
     "metadata": {},
     "output_type": "execute_result"
    }
   ],
   "source": [
    "df.describe(include=object)"
   ]
  },
  {
   "cell_type": "code",
   "execution_count": 8,
   "metadata": {},
   "outputs": [
    {
     "name": "stdout",
     "output_type": "stream",
     "text": [
      "<class 'pandas.core.frame.DataFrame'>\n",
      "RangeIndex: 21 entries, 0 to 20\n",
      "Data columns (total 9 columns):\n",
      " #   Column                         Non-Null Count  Dtype \n",
      "---  ------                         --------------  ----- \n",
      " 0   Year                           21 non-null     int64 \n",
      " 1   Hosts                          21 non-null     object\n",
      " 2   Venues/Cities                  21 non-null     object\n",
      " 3   Totalattendance †              21 non-null     object\n",
      " 4   Matches                        21 non-null     int64 \n",
      " 5   Averageattendance              21 non-null     object\n",
      " 6   highest attendence of Number   21 non-null     object\n",
      " 7   highest attendence of Venue    21 non-null     object\n",
      " 8   highest attendence of Game(s)  21 non-null     object\n",
      "dtypes: int64(2), object(7)\n",
      "memory usage: 1.6+ KB\n"
     ]
    }
   ],
   "source": [
    "df.info()"
   ]
  },
  {
   "cell_type": "code",
   "execution_count": 11,
   "metadata": {},
   "outputs": [
    {
     "data": {
      "text/plain": [
       "Year                             0\n",
       "Hosts                            0\n",
       "Venues/Cities                    0\n",
       "Totalattendance †                0\n",
       "Matches                          0\n",
       "Averageattendance                0\n",
       "highest attendence of Number     0\n",
       "highest attendence of Venue      0\n",
       "highest attendence of Game(s)    0\n",
       "dtype: int64"
      ]
     },
     "execution_count": 11,
     "metadata": {},
     "output_type": "execute_result"
    }
   ],
   "source": [
    "df.isnull(). sum()"
   ]
  },
  {
   "attachments": {},
   "cell_type": "markdown",
   "metadata": {},
   "source": [
    "2. Extraer los siguentes estadísiticos del conjunto de datos para varias de las variables disponibles:\n",
    "        Media\n",
    "        Desviación con respecto de la media\n",
    "        Varianza\n",
    "        Desviación típica\n",
    "        Moda\n",
    "        Mediana\n",
    "        Media ponderada\n",
    "        Robustez\n",
    "        Coeficiente de variación\n"
   ]
  },
  {
   "cell_type": "code",
   "execution_count": 15,
   "metadata": {},
   "outputs": [
    {
     "data": {
      "text/html": [
       "<div>\n",
       "<style scoped>\n",
       "    .dataframe tbody tr th:only-of-type {\n",
       "        vertical-align: middle;\n",
       "    }\n",
       "\n",
       "    .dataframe tbody tr th {\n",
       "        vertical-align: top;\n",
       "    }\n",
       "\n",
       "    .dataframe thead th {\n",
       "        text-align: right;\n",
       "    }\n",
       "</style>\n",
       "<table border=\"1\" class=\"dataframe\">\n",
       "  <thead>\n",
       "    <tr style=\"text-align: right;\">\n",
       "      <th></th>\n",
       "      <th>Year</th>\n",
       "      <th>Hosts</th>\n",
       "      <th>Venues/Cities</th>\n",
       "      <th>Totalattendance †</th>\n",
       "      <th>Matches</th>\n",
       "      <th>Averageattendance</th>\n",
       "      <th>highest attendence of Number</th>\n",
       "      <th>highest attendence of Venue</th>\n",
       "      <th>highest attendence of Game(s)</th>\n",
       "    </tr>\n",
       "  </thead>\n",
       "  <tbody>\n",
       "    <tr>\n",
       "      <th>0</th>\n",
       "      <td>1930</td>\n",
       "      <td>Uruguay</td>\n",
       "      <td>3/1</td>\n",
       "      <td>590,549</td>\n",
       "      <td>18</td>\n",
       "      <td>32,808</td>\n",
       "      <td>93,000</td>\n",
       "      <td>Estadio Centenario, Montevideo</td>\n",
       "      <td>Uruguay 6–1 Yugoslavia, Semi-final</td>\n",
       "    </tr>\n",
       "    <tr>\n",
       "      <th>1</th>\n",
       "      <td>1934</td>\n",
       "      <td>Italy</td>\n",
       "      <td>8/8</td>\n",
       "      <td>363,000</td>\n",
       "      <td>17</td>\n",
       "      <td>21,353</td>\n",
       "      <td>55,000</td>\n",
       "      <td>Stadio Nazionale PNF, Rome</td>\n",
       "      <td>Italy 2–1 Czechoslovakia, Final</td>\n",
       "    </tr>\n",
       "    <tr>\n",
       "      <th>2</th>\n",
       "      <td>1938</td>\n",
       "      <td>France</td>\n",
       "      <td>10/9</td>\n",
       "      <td>375,700</td>\n",
       "      <td>18</td>\n",
       "      <td>20,872</td>\n",
       "      <td>58,455</td>\n",
       "      <td>Olympique de Colombes, Paris</td>\n",
       "      <td>France 1–3 Italy, Quarter-final</td>\n",
       "    </tr>\n",
       "  </tbody>\n",
       "</table>\n",
       "</div>"
      ],
      "text/plain": [
       "   Year     Hosts Venues/Cities Totalattendance †  Matches Averageattendance  \\\n",
       "0  1930   Uruguay           3/1           590,549       18            32,808   \n",
       "1  1934     Italy           8/8           363,000       17            21,353   \n",
       "2  1938    France          10/9           375,700       18            20,872   \n",
       "\n",
       "  highest attendence of Number     highest attendence of Venue  \\\n",
       "0                       93,000  Estadio Centenario, Montevideo   \n",
       "1                       55,000      Stadio Nazionale PNF, Rome   \n",
       "2                       58,455    Olympique de Colombes, Paris   \n",
       "\n",
       "        highest attendence of Game(s)  \n",
       "0  Uruguay 6–1 Yugoslavia, Semi-final  \n",
       "1     Italy 2–1 Czechoslovakia, Final  \n",
       "2     France 1–3 Italy, Quarter-final  "
      ]
     },
     "execution_count": 15,
     "metadata": {},
     "output_type": "execute_result"
    }
   ],
   "source": [
    "df.head(3)"
   ]
  },
  {
   "cell_type": "code",
   "execution_count": 17,
   "metadata": {},
   "outputs": [],
   "source": [
    "#limpiamos el nombre de la col\n",
    "df.rename(columns={'Totalattendance †': 'Totalattendance'}, inplace=True)"
   ]
  },
  {
   "cell_type": "code",
   "execution_count": 28,
   "metadata": {},
   "outputs": [
    {
     "data": {
      "text/plain": [
       "(21, 9)"
      ]
     },
     "execution_count": 28,
     "metadata": {},
     "output_type": "execute_result"
    }
   ],
   "source": [
    "df.shape"
   ]
  },
  {
   "cell_type": "code",
   "execution_count": 19,
   "metadata": {},
   "outputs": [
    {
     "data": {
      "text/html": [
       "<div>\n",
       "<style scoped>\n",
       "    .dataframe tbody tr th:only-of-type {\n",
       "        vertical-align: middle;\n",
       "    }\n",
       "\n",
       "    .dataframe tbody tr th {\n",
       "        vertical-align: top;\n",
       "    }\n",
       "\n",
       "    .dataframe thead th {\n",
       "        text-align: right;\n",
       "    }\n",
       "</style>\n",
       "<table border=\"1\" class=\"dataframe\">\n",
       "  <thead>\n",
       "    <tr style=\"text-align: right;\">\n",
       "      <th></th>\n",
       "      <th>Year</th>\n",
       "      <th>Hosts</th>\n",
       "      <th>Venues/Cities</th>\n",
       "      <th>Totalattendance</th>\n",
       "      <th>Matches</th>\n",
       "      <th>Averageattendance</th>\n",
       "      <th>highest attendence of Number</th>\n",
       "      <th>highest attendence of Venue</th>\n",
       "      <th>highest attendence of Game(s)</th>\n",
       "    </tr>\n",
       "  </thead>\n",
       "  <tbody>\n",
       "    <tr>\n",
       "      <th>0</th>\n",
       "      <td>1930</td>\n",
       "      <td>Uruguay</td>\n",
       "      <td>3/1</td>\n",
       "      <td>590,549</td>\n",
       "      <td>18</td>\n",
       "      <td>32,808</td>\n",
       "      <td>93,000</td>\n",
       "      <td>Estadio Centenario, Montevideo</td>\n",
       "      <td>Uruguay 6–1 Yugoslavia, Semi-final</td>\n",
       "    </tr>\n",
       "    <tr>\n",
       "      <th>1</th>\n",
       "      <td>1934</td>\n",
       "      <td>Italy</td>\n",
       "      <td>8/8</td>\n",
       "      <td>363,000</td>\n",
       "      <td>17</td>\n",
       "      <td>21,353</td>\n",
       "      <td>55,000</td>\n",
       "      <td>Stadio Nazionale PNF, Rome</td>\n",
       "      <td>Italy 2–1 Czechoslovakia, Final</td>\n",
       "    </tr>\n",
       "    <tr>\n",
       "      <th>2</th>\n",
       "      <td>1938</td>\n",
       "      <td>France</td>\n",
       "      <td>10/9</td>\n",
       "      <td>375,700</td>\n",
       "      <td>18</td>\n",
       "      <td>20,872</td>\n",
       "      <td>58,455</td>\n",
       "      <td>Olympique de Colombes, Paris</td>\n",
       "      <td>France 1–3 Italy, Quarter-final</td>\n",
       "    </tr>\n",
       "  </tbody>\n",
       "</table>\n",
       "</div>"
      ],
      "text/plain": [
       "   Year     Hosts Venues/Cities Totalattendance  Matches Averageattendance  \\\n",
       "0  1930   Uruguay           3/1         590,549       18            32,808   \n",
       "1  1934     Italy           8/8         363,000       17            21,353   \n",
       "2  1938    France          10/9         375,700       18            20,872   \n",
       "\n",
       "  highest attendence of Number     highest attendence of Venue  \\\n",
       "0                       93,000  Estadio Centenario, Montevideo   \n",
       "1                       55,000      Stadio Nazionale PNF, Rome   \n",
       "2                       58,455    Olympique de Colombes, Paris   \n",
       "\n",
       "        highest attendence of Game(s)  \n",
       "0  Uruguay 6–1 Yugoslavia, Semi-final  \n",
       "1     Italy 2–1 Czechoslovakia, Final  \n",
       "2     France 1–3 Italy, Quarter-final  "
      ]
     },
     "execution_count": 19,
     "metadata": {},
     "output_type": "execute_result"
    }
   ],
   "source": [
    "df.head(3)"
   ]
  },
  {
   "cell_type": "code",
   "execution_count": 22,
   "metadata": {},
   "outputs": [],
   "source": [
    "media= df['Matches'].mean()"
   ]
  },
  {
   "cell_type": "code",
   "execution_count": 26,
   "metadata": {},
   "outputs": [
    {
     "data": {
      "text/plain": [
       "0    24.857143\n",
       "1    25.857143\n",
       "2    24.857143\n",
       "3    20.857143\n",
       "4    16.857143\n",
       "Name: Matches, dtype: float64"
      ]
     },
     "execution_count": 26,
     "metadata": {},
     "output_type": "execute_result"
    }
   ],
   "source": [
    "diferencias= df['Matches']-media\n",
    "desviacion_media= np.abs(diferencias)\n",
    "desviacion_media.head(5)"
   ]
  },
  {
   "cell_type": "code",
   "execution_count": 29,
   "metadata": {},
   "outputs": [
    {
     "data": {
      "text/plain": [
       "305.1285714285715"
      ]
     },
     "execution_count": 29,
     "metadata": {},
     "output_type": "execute_result"
    }
   ],
   "source": [
    "df['Matches'].var()"
   ]
  },
  {
   "cell_type": "code",
   "execution_count": 30,
   "metadata": {},
   "outputs": [
    {
     "data": {
      "text/plain": [
       "17.46792979802047"
      ]
     },
     "execution_count": 30,
     "metadata": {},
     "output_type": "execute_result"
    }
   ],
   "source": [
    "df['Matches'].std()"
   ]
  },
  {
   "cell_type": "code",
   "execution_count": 31,
   "metadata": {},
   "outputs": [
    {
     "data": {
      "text/plain": [
       "0    64\n",
       "dtype: int64"
      ]
     },
     "execution_count": 31,
     "metadata": {},
     "output_type": "execute_result"
    }
   ],
   "source": [
    "df['Matches'].mode()"
   ]
  },
  {
   "cell_type": "code",
   "execution_count": null,
   "metadata": {},
   "outputs": [],
   "source": [
    "df= pd.read_csv(\"FIFA_World_Cup.csv\")"
   ]
  },
  {
   "cell_type": "code",
   "execution_count": 32,
   "metadata": {},
   "outputs": [
    {
     "data": {
      "text/plain": [
       "38.0"
      ]
     },
     "execution_count": 32,
     "metadata": {},
     "output_type": "execute_result"
    }
   ],
   "source": [
    "df['Matches'].median()"
   ]
  },
  {
   "cell_type": "code",
   "execution_count": 36,
   "metadata": {},
   "outputs": [
    {
     "data": {
      "text/plain": [
       "2.4534757897870407"
      ]
     },
     "execution_count": 36,
     "metadata": {},
     "output_type": "execute_result"
    }
   ],
   "source": [
    "coeficiente_variacion= (df['Matches'].mean()/df['Matches'].std())\n",
    "coeficiente_variacion\n",
    "#a mayor coeficiente menos robustos son los datos"
   ]
  },
  {
   "attachments": {},
   "cell_type": "markdown",
   "metadata": {},
   "source": [
    "3. Interpretación de los resultados.\n",
    "    Ahora interpreta los resultados obtenidos de los diferentes estadísticos estudiados haciendo hincapié en aspectos interesantes de tus datos y explica lo mejor posible la naturaleza de los mismos."
   ]
  },
  {
   "cell_type": "code",
   "execution_count": 84,
   "metadata": {},
   "outputs": [
    {
     "data": {
      "image/png": "[encoded data removed]",
      "text/plain": [
       "<Figure size 720x720 with 1 Axes>"
      ]
     },
     "metadata": {
      "needs_background": "light"
     },
     "output_type": "display_data"
    }
   ],
   "source": [
    "plt.figure (figsize=(10, 10))\n",
    "fig= sns.boxplot (data= df, x=df['Matches'])\n",
    "plt.show()\n"
   ]
  },
  {
   "cell_type": "code",
   "execution_count": 43,
   "metadata": {},
   "outputs": [
    {
     "data": {
      "text/html": [
       "<div>\n",
       "<style scoped>\n",
       "    .dataframe tbody tr th:only-of-type {\n",
       "        vertical-align: middle;\n",
       "    }\n",
       "\n",
       "    .dataframe tbody tr th {\n",
       "        vertical-align: top;\n",
       "    }\n",
       "\n",
       "    .dataframe thead th {\n",
       "        text-align: right;\n",
       "    }\n",
       "</style>\n",
       "<table border=\"1\" class=\"dataframe\">\n",
       "  <thead>\n",
       "    <tr style=\"text-align: right;\">\n",
       "      <th></th>\n",
       "      <th>Year</th>\n",
       "      <th>Hosts</th>\n",
       "      <th>Venues/Cities</th>\n",
       "      <th>Totalattendance</th>\n",
       "      <th>Matches</th>\n",
       "      <th>Averageattendance</th>\n",
       "      <th>highest attendence of Number</th>\n",
       "      <th>highest attendence of Venue</th>\n",
       "      <th>highest attendence of Game(s)</th>\n",
       "    </tr>\n",
       "  </thead>\n",
       "  <tbody>\n",
       "    <tr>\n",
       "      <th>0</th>\n",
       "      <td>1930</td>\n",
       "      <td>Uruguay</td>\n",
       "      <td>3/1</td>\n",
       "      <td>590,549</td>\n",
       "      <td>18</td>\n",
       "      <td>32,808</td>\n",
       "      <td>93,000</td>\n",
       "      <td>Estadio Centenario, Montevideo</td>\n",
       "      <td>Uruguay 6–1 Yugoslavia, Semi-final</td>\n",
       "    </tr>\n",
       "    <tr>\n",
       "      <th>1</th>\n",
       "      <td>1934</td>\n",
       "      <td>Italy</td>\n",
       "      <td>8/8</td>\n",
       "      <td>363,000</td>\n",
       "      <td>17</td>\n",
       "      <td>21,353</td>\n",
       "      <td>55,000</td>\n",
       "      <td>Stadio Nazionale PNF, Rome</td>\n",
       "      <td>Italy 2–1 Czechoslovakia, Final</td>\n",
       "    </tr>\n",
       "  </tbody>\n",
       "</table>\n",
       "</div>"
      ],
      "text/plain": [
       "   Year     Hosts Venues/Cities Totalattendance  Matches Averageattendance  \\\n",
       "0  1930   Uruguay           3/1         590,549       18            32,808   \n",
       "1  1934     Italy           8/8         363,000       17            21,353   \n",
       "\n",
       "  highest attendence of Number     highest attendence of Venue  \\\n",
       "0                       93,000  Estadio Centenario, Montevideo   \n",
       "1                       55,000      Stadio Nazionale PNF, Rome   \n",
       "\n",
       "        highest attendence of Game(s)  \n",
       "0  Uruguay 6–1 Yugoslavia, Semi-final  \n",
       "1     Italy 2–1 Czechoslovakia, Final  "
      ]
     },
     "execution_count": 43,
     "metadata": {},
     "output_type": "execute_result"
    }
   ],
   "source": [
    "df.head(2)"
   ]
  },
  {
   "cell_type": "code",
   "execution_count": 90,
   "metadata": {},
   "outputs": [
    {
     "data": {
      "image/png": "[encoded data removed]",
      "text/plain": [
       "<Figure size 1440x720 with 1 Axes>"
      ]
     },
     "metadata": {},
     "output_type": "display_data"
    }
   ],
   "source": [
    "plt.figure (figsize=(20, 10))\n",
    "fig= sns.barplot (data= df, y=df['Matches'], x=df['Averageattendance'])\n",
    "sns.set_style(\"whitegrid\")\n",
    "plt.show()"
   ]
  },
  {
   "cell_type": "code",
   "execution_count": 91,
   "metadata": {},
   "outputs": [
    {
     "data": {
      "image/png": "[encoded data removed]",
      "text/plain": [
       "<Figure size 1440x720 with 1 Axes>"
      ]
     },
     "metadata": {},
     "output_type": "display_data"
    }
   ],
   "source": [
    "plt.figure (figsize=(20, 10))\n",
    "fig= sns.lineplot (data= df,  x=df['Hosts'], y= df['Averageattendance'])\n",
    "fig.set (xlabel='País Anfitrión', ylabel='Media de asistencia')\n",
    "sns.set_style(\"whitegrid\")\n",
    "plt.show()"
   ]
  }
 ],
 "metadata": {
  "kernelspec": {
   "display_name": "Python 3",
   "language": "python",
   "name": "python3"
  },
  "language_info": {
   "codemirror_mode": {
    "name": "ipython",
    "version": 3
   },
   "file_extension": ".py",
   "mimetype": "text/x-python",
   "name": "python",
   "nbconvert_exporter": "python",
   "pygments_lexer": "ipython3",
   "version": "3.10.9 (tags/v3.10.9:1dd9be6, Dec  6 2022, 20:01:21) [MSC v.1934 64 bit (AMD64)]"
  },
  "orig_nbformat": 4,
  "vscode": {
   "interpreter": {
    "hash": "386358fdc1fd0de6900d07d882f42fc953f23690ede61ed9b4d9d7c82a6402d7"
   }
  }
 },
 "nbformat": 4,
 "nbformat_minor": 2
}
