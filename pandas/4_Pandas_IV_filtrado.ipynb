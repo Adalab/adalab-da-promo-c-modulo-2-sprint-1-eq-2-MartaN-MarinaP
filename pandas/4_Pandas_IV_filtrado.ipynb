{
 "cells": [
  {
   "cell_type": "code",
   "execution_count": 60,
   "metadata": {},
   "outputs": [],
   "source": [
    "import pandas as pd\n",
    "import numpy as np"
   ]
  },
  {
   "cell_type": "code",
   "execution_count": 61,
   "metadata": {},
   "outputs": [],
   "source": [
    "df=pd.read_csv('pandas/ataques.csv')"
   ]
  },
  {
   "cell_type": "code",
   "execution_count": 62,
   "metadata": {},
   "outputs": [
    {
     "data": {
      "text/plain": [
       "(6114, 16)"
      ]
     },
     "execution_count": 62,
     "metadata": {},
     "output_type": "execute_result"
    }
   ],
   "source": [
    "df.head()\n",
    "df.shape"
   ]
  },
  {
   "cell_type": "code",
   "execution_count": 63,
   "metadata": {},
   "outputs": [],
   "source": [
    "df_limpio= df.dropna()"
   ]
  },
  {
   "attachments": {},
   "cell_type": "markdown",
   "metadata": {},
   "source": [
    "¿Cuántas filas se han eliminado con esta línea de código? "
   ]
  },
  {
   "cell_type": "code",
   "execution_count": 82,
   "metadata": {},
   "outputs": [
    {
     "data": {
      "text/plain": [
       "(6114, 16)"
      ]
     },
     "execution_count": 82,
     "metadata": {},
     "output_type": "execute_result"
    }
   ],
   "source": [
    "df.shape \n",
    "\n"
   ]
  },
  {
   "cell_type": "code",
   "execution_count": 81,
   "metadata": {},
   "outputs": [
    {
     "data": {
      "text/plain": [
       "(1502, 16)"
      ]
     },
     "execution_count": 81,
     "metadata": {},
     "output_type": "execute_result"
    }
   ],
   "source": [
    "df_limpio.shape\n",
    "#se han eliminado 4612 filas\n"
   ]
  },
  {
   "attachments": {},
   "cell_type": "markdown",
   "metadata": {},
   "source": [
    "¿Cuál es el número de ataques que se han producido en Estados Unidos?"
   ]
  },
  {
   "cell_type": "code",
   "execution_count": 85,
   "metadata": {},
   "outputs": [
    {
     "data": {
      "text/plain": [
       "Index(['Unnamed: 0', 'unnamed:_0', 'case_number', 'year', 'type', 'country',\n",
       "       'area', 'location', 'activity', 'name', 'sex_', 'age', 'time',\n",
       "       'species_', 'href', 'case_number.2'],\n",
       "      dtype='object')"
      ]
     },
     "execution_count": 85,
     "metadata": {},
     "output_type": "execute_result"
    }
   ],
   "source": [
    "df_limpio.columns\n"
   ]
  },
  {
   "cell_type": "code",
   "execution_count": 95,
   "metadata": {},
   "outputs": [
    {
     "data": {
      "text/plain": [
       "array(['USA', 'BRAZIL', 'AUSTRALIA', 'ENGLAND', 'COSTA RICA', 'MALDIVES',\n",
       "       'SOUTH AFRICA', 'CUBA', 'SPAIN', 'BAHAMAS', 'INDONESIA', 'EGYPT',\n",
       "       'NEW ZEALAND', 'FRENCH POLYNESIA', 'NEW CALEDONIA', 'ECUADOR',\n",
       "       'THAILAND', 'REUNION', 'MEXICO', 'JAMAICA', 'ITALY',\n",
       "       'PAPUA NEW GUINEA', 'RUSSIA', 'SEYCHELLES', 'VIETNAM', 'GUAM',\n",
       "       'MOZAMBIQUE', 'SCOTLAND', 'UNITED KINGDOM', 'TAIWAN', 'CROATIA',\n",
       "       'FIJI', 'TONGA', 'ST. MAARTIN', 'GRAND CAYMAN', 'VANUATU',\n",
       "       'VENEZUELA', 'TURKS & CAICOS', 'OKINAWA', 'MARSHALL ISLANDS',\n",
       "       'MAURITIUS', 'HONG KONG', 'JAPAN', 'SOUTH KOREA', 'ISRAEL',\n",
       "       'MICRONESIA', 'COLUMBIA', 'NEW BRITAIN', 'PALAU',\n",
       "       'SOLOMON ISLANDS', 'FEDERATED STATES OF MICRONESIA', 'GREECE',\n",
       "       'BRITISH WEST INDIES', 'NORTH PACIFIC OCEAN', 'BERMUDA',\n",
       "       'PHILIPPINES', 'AMERICAN SAMOA', 'PACIFIC OCEAN', 'SENEGAL',\n",
       "       'ARGENTINA', 'EL SALVADOR', 'IRAQ', 'PANAMA', 'INDIA'],\n",
       "      dtype=object)"
      ]
     },
     "execution_count": 95,
     "metadata": {},
     "output_type": "execute_result"
    }
   ],
   "source": [
    "df_limpio.head()\n",
    "df_limpio['country'].unique()"
   ]
  },
  {
   "cell_type": "code",
   "execution_count": 94,
   "metadata": {},
   "outputs": [
    {
     "data": {
      "text/plain": [
       "(719, 16)"
      ]
     },
     "execution_count": 94,
     "metadata": {},
     "output_type": "execute_result"
    }
   ],
   "source": [
    "ataques_usa = df_limpio[df_limpio['country']=='USA']\n",
    "ataques_usa.shape\n",
    "#se han producido 719 ataques en USA"
   ]
  },
  {
   "attachments": {},
   "cell_type": "markdown",
   "metadata": {},
   "source": [
    "Y en España?\n",
    "3.1 ¿En qué regiones se han producido los ataques (columna location) ?\n",
    "3.2 ¿Cuántos ataques se han producido en cada área (columna area?"
   ]
  },
  {
   "cell_type": "code",
   "execution_count": 97,
   "metadata": {},
   "outputs": [
    {
     "data": {
      "text/plain": [
       "(5, 16)"
      ]
     },
     "execution_count": 97,
     "metadata": {},
     "output_type": "execute_result"
    }
   ],
   "source": [
    "ataques_spain = df_limpio[df_limpio['country']=='SPAIN']\n",
    "ataques_spain.shape\n",
    "#se han producido 5 ataques en España"
   ]
  },
  {
   "cell_type": "code",
   "execution_count": 99,
   "metadata": {},
   "outputs": [
    {
     "data": {
      "text/plain": [
       "array(['Grao de Moncofa', 'Arenales del Sol', 'Poniente Beach, Benidorm',\n",
       "       'Sardina del Norte, Gáldar', 'Playa de las Arenas, Valencia '],\n",
       "      dtype=object)"
      ]
     },
     "execution_count": 99,
     "metadata": {},
     "output_type": "execute_result"
    }
   ],
   "source": [
    "ataques_spain['location'].unique()"
   ]
  },
  {
   "cell_type": "code",
   "execution_count": 100,
   "metadata": {},
   "outputs": [
    {
     "data": {
      "text/html": [
       "<div>\n",
       "<style scoped>\n",
       "    .dataframe tbody tr th:only-of-type {\n",
       "        vertical-align: middle;\n",
       "    }\n",
       "\n",
       "    .dataframe tbody tr th {\n",
       "        vertical-align: top;\n",
       "    }\n",
       "\n",
       "    .dataframe thead th {\n",
       "        text-align: right;\n",
       "    }\n",
       "</style>\n",
       "<table border=\"1\" class=\"dataframe\">\n",
       "  <thead>\n",
       "    <tr style=\"text-align: right;\">\n",
       "      <th></th>\n",
       "      <th>Unnamed: 0</th>\n",
       "      <th>unnamed:_0</th>\n",
       "      <th>case_number</th>\n",
       "      <th>year</th>\n",
       "      <th>type</th>\n",
       "      <th>country</th>\n",
       "      <th>area</th>\n",
       "      <th>location</th>\n",
       "      <th>activity</th>\n",
       "      <th>name</th>\n",
       "      <th>sex_</th>\n",
       "      <th>age</th>\n",
       "      <th>time</th>\n",
       "      <th>species_</th>\n",
       "      <th>href</th>\n",
       "      <th>case_number.2</th>\n",
       "    </tr>\n",
       "  </thead>\n",
       "  <tbody>\n",
       "    <tr>\n",
       "      <th>98</th>\n",
       "      <td>98</td>\n",
       "      <td>98</td>\n",
       "      <td>2017.08.26.b</td>\n",
       "      <td>2017.0</td>\n",
       "      <td>Invalid</td>\n",
       "      <td>SPAIN</td>\n",
       "      <td>Castellón</td>\n",
       "      <td>Grao de Moncofa</td>\n",
       "      <td>Swimming</td>\n",
       "      <td>female</td>\n",
       "      <td>F</td>\n",
       "      <td>11</td>\n",
       "      <td>Midday</td>\n",
       "      <td>Shark involvement questionable</td>\n",
       "      <td>http://sharkattackfile.net/spreadsheets/pdf_di...</td>\n",
       "      <td>2017.08.26.b</td>\n",
       "    </tr>\n",
       "    <tr>\n",
       "      <th>233</th>\n",
       "      <td>233</td>\n",
       "      <td>234</td>\n",
       "      <td>2016.07.29</td>\n",
       "      <td>2016.0</td>\n",
       "      <td>Unprovoked</td>\n",
       "      <td>SPAIN</td>\n",
       "      <td>Alicante Province</td>\n",
       "      <td>Arenales del Sol</td>\n",
       "      <td>Swimming</td>\n",
       "      <td>male</td>\n",
       "      <td>M</td>\n",
       "      <td>40</td>\n",
       "      <td>11h30</td>\n",
       "      <td>Blue shark</td>\n",
       "      <td>http://sharkattackfile.net/spreadsheets/pdf_di...</td>\n",
       "      <td>2016.07.29</td>\n",
       "    </tr>\n",
       "    <tr>\n",
       "      <th>377</th>\n",
       "      <td>377</td>\n",
       "      <td>378</td>\n",
       "      <td>2015.08.18.a</td>\n",
       "      <td>2015.0</td>\n",
       "      <td>Invalid</td>\n",
       "      <td>SPAIN</td>\n",
       "      <td>Alicante</td>\n",
       "      <td>Poniente Beach, Benidorm</td>\n",
       "      <td>Swimming</td>\n",
       "      <td>male</td>\n",
       "      <td>M</td>\n",
       "      <td>10</td>\n",
       "      <td>11h00</td>\n",
       "      <td>Shark involvement not confirmed</td>\n",
       "      <td>http://sharkattackfile.net/spreadsheets/pdf_di...</td>\n",
       "      <td>2015.08.18.a</td>\n",
       "    </tr>\n",
       "    <tr>\n",
       "      <th>1007</th>\n",
       "      <td>1007</td>\n",
       "      <td>1011</td>\n",
       "      <td>2010.07.16.b</td>\n",
       "      <td>2010.0</td>\n",
       "      <td>Provoked</td>\n",
       "      <td>SPAIN</td>\n",
       "      <td>Grand Canary Island</td>\n",
       "      <td>Sardina del Norte, Gáldar</td>\n",
       "      <td>Swimming</td>\n",
       "      <td>male</td>\n",
       "      <td>M</td>\n",
       "      <td>9</td>\n",
       "      <td>19h15</td>\n",
       "      <td>Angel shark</td>\n",
       "      <td>http://sharkattackfile.net/spreadsheets/pdf_di...</td>\n",
       "      <td>2010.07.16.b</td>\n",
       "    </tr>\n",
       "    <tr>\n",
       "      <th>2469</th>\n",
       "      <td>2469</td>\n",
       "      <td>2476</td>\n",
       "      <td>1993.09.03</td>\n",
       "      <td>1993.0</td>\n",
       "      <td>Unprovoked</td>\n",
       "      <td>SPAIN</td>\n",
       "      <td>Costa Blanca</td>\n",
       "      <td>Playa de las Arenas, Valencia</td>\n",
       "      <td>Swimming</td>\n",
       "      <td>Jorge Durich Heredia (or Hernandez)</td>\n",
       "      <td>M</td>\n",
       "      <td>69</td>\n",
       "      <td>08h00</td>\n",
       "      <td>1.2 m [4'] shark</td>\n",
       "      <td>http://sharkattackfile.net/spreadsheets/pdf_di...</td>\n",
       "      <td>1993.09.03</td>\n",
       "    </tr>\n",
       "  </tbody>\n",
       "</table>\n",
       "</div>"
      ],
      "text/plain": [
       "      Unnamed: 0  unnamed:_0   case_number    year        type country  \\\n",
       "98            98          98  2017.08.26.b  2017.0     Invalid   SPAIN   \n",
       "233          233         234    2016.07.29  2016.0  Unprovoked   SPAIN   \n",
       "377          377         378  2015.08.18.a  2015.0     Invalid   SPAIN   \n",
       "1007        1007        1011  2010.07.16.b  2010.0    Provoked   SPAIN   \n",
       "2469        2469        2476    1993.09.03  1993.0  Unprovoked   SPAIN   \n",
       "\n",
       "                     area                        location  activity  \\\n",
       "98              Castellón                 Grao de Moncofa  Swimming   \n",
       "233     Alicante Province                Arenales del Sol  Swimming   \n",
       "377              Alicante        Poniente Beach, Benidorm  Swimming   \n",
       "1007  Grand Canary Island       Sardina del Norte, Gáldar  Swimming   \n",
       "2469         Costa Blanca  Playa de las Arenas, Valencia   Swimming   \n",
       "\n",
       "                                     name sex_ age    time  \\\n",
       "98                                 female    F  11  Midday   \n",
       "233                                  male    M  40   11h30   \n",
       "377                                  male    M  10   11h00   \n",
       "1007                                 male    M   9   19h15   \n",
       "2469  Jorge Durich Heredia (or Hernandez)    M  69   08h00   \n",
       "\n",
       "                             species_  \\\n",
       "98     Shark involvement questionable   \n",
       "233                        Blue shark   \n",
       "377   Shark involvement not confirmed   \n",
       "1007                      Angel shark   \n",
       "2469                 1.2 m [4'] shark   \n",
       "\n",
       "                                                   href case_number.2  \n",
       "98    http://sharkattackfile.net/spreadsheets/pdf_di...  2017.08.26.b  \n",
       "233   http://sharkattackfile.net/spreadsheets/pdf_di...    2016.07.29  \n",
       "377   http://sharkattackfile.net/spreadsheets/pdf_di...  2015.08.18.a  \n",
       "1007  http://sharkattackfile.net/spreadsheets/pdf_di...  2010.07.16.b  \n",
       "2469  http://sharkattackfile.net/spreadsheets/pdf_di...    1993.09.03  "
      ]
     },
     "execution_count": 100,
     "metadata": {},
     "output_type": "execute_result"
    }
   ],
   "source": [
    "ataques_spain.head()"
   ]
  },
  {
   "cell_type": "code",
   "execution_count": 102,
   "metadata": {},
   "outputs": [
    {
     "data": {
      "text/plain": [
       "Castellón              1\n",
       "Alicante Province      1\n",
       "Alicante               1\n",
       "Grand Canary Island    1\n",
       "Costa Blanca           1\n",
       "Name: area, dtype: int64"
      ]
     },
     "execution_count": 102,
     "metadata": {},
     "output_type": "execute_result"
    }
   ],
   "source": [
    "ataques_spain['area'].value_counts()"
   ]
  },
  {
   "attachments": {},
   "cell_type": "markdown",
   "metadata": {},
   "source": [
    "4. Extraed un DataFrame nuevo con los ataques que se han producido en Australia y Estados Unidos. 📌 Nota Este ejercicio se puede resolver usando dos condiciones de filtrado o usando el método isin(). Hacedlo con ambas herramientas.\n",
    "\n",
    "4.1 ¿Cuántos ataques se han producido en cada país?\n",
    "\n",
    "4.2 ¿Ha habido ataques en Australia a gente que estuviera remando (lo encontrareis como Paddling en el DataFrame en la columna activity)?\n",
    "4.3 ¿Cuántos ataques se han producido en Australia antes del 2000?\n",
    "\n",
    "4.4 ¿Y después del 2000?"
   ]
  },
  {
   "cell_type": "code",
   "execution_count": 104,
   "metadata": {},
   "outputs": [
    {
     "ename": "SyntaxError",
     "evalue": "closing parenthesis ']' does not match opening parenthesis '(' (1999213992.py, line 1)",
     "output_type": "error",
     "traceback": [
      "\u001b[0;36m  File \u001b[0;32m\"/tmp/ipykernel_951/1999213992.py\"\u001b[0;36m, line \u001b[0;32m1\u001b[0m\n\u001b[0;31m    df_limpio[(df_limpio['country']=='USA')]& (df_limpio['country']=='AUSTRALIA'])\u001b[0m\n\u001b[0m                                                                                ^\u001b[0m\n\u001b[0;31mSyntaxError\u001b[0m\u001b[0;31m:\u001b[0m closing parenthesis ']' does not match opening parenthesis '('\n"
     ]
    }
   ],
   "source": [
    "df_limpio[(df_limpio['country']=='USA')]& (df_limpio['country']=='AUSTRALIA'])"
   ]
  }
 ],
 "metadata": {
  "kernelspec": {
   "display_name": "base",
   "language": "python",
   "name": "python3"
  },
  "language_info": {
   "codemirror_mode": {
    "name": "ipython",
    "version": 3
   },
   "file_extension": ".py",
   "mimetype": "text/x-python",
   "name": "python",
   "nbconvert_exporter": "python",
   "pygments_lexer": "ipython3",
   "version": "3.9.7 (default, Sep 16 2021, 13:09:58) \n[GCC 7.5.0]"
  },
  "orig_nbformat": 4,
  "vscode": {
   "interpreter": {
    "hash": "8a5edab282632443219e051e4ade2d1d5bbc671c781051bf1437897cbdfea0f1"
   }
  }
 },
 "nbformat": 4,
 "nbformat_minor": 2
}
