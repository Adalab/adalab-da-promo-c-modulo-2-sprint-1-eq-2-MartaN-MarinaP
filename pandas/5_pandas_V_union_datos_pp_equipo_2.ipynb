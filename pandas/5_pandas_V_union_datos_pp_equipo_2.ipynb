{
 "cells": [
  {
   "attachments": {},
   "cell_type": "markdown",
   "metadata": {},
   "source": [
    "Trabajaremos con tres ficheros diferentes:\n",
    "- El csv que creamos en el ejercicio de pair programming Pandas IV\n",
    "- El csv llamado attacks_historico donde tenemos información sobre los ataques de tiburón previos al año 1800, \n",
    "- El csv llamado attacks_adicional donde tenemos información sobre los ataques de tiburón. de nuevo,\n",
    "El principal objetivo de este ejercicio de pair programming es acabar teniendo un único DataFrame con toda la información contenida en los tres csv anteriores.\n",
    "Para llevar a cabo nuestro objetivo tendréis que seguir los siguientes pasos:"
   ]
  },
  {
   "cell_type": "code",
   "execution_count": 65,
   "metadata": {},
   "outputs": [],
   "source": [
    "import pandas as pd\n",
    "import numpy as np"
   ]
  },
  {
   "attachments": {},
   "cell_type": "markdown",
   "metadata": {},
   "source": [
    "1. Cargad los tres ficheros nombrados anteriormente y los exploramos para familizarizarnos con ellos y saber que información tienen en común y debatir con tu compañera como podríamos juntar toda la información."
   ]
  },
  {
   "cell_type": "code",
   "execution_count": 66,
   "metadata": {},
   "outputs": [],
   "source": [
    "df_ataques_limpio= pd.read_csv('ataques_limpio.csv')\n",
    "df_ataques_adic= pd.read_csv('attacks_adicional.csv')\n",
    "df_ataques_hist= pd.read_csv('attacks_historico.csv')"
   ]
  },
  {
   "attachments": {},
   "cell_type": "markdown",
   "metadata": {},
   "source": [
    "2. Chequead que los nombres de las columnas ver si se llaman iguales entre dataframes . ¿Están todas en minúsculas? ¿Tienen espacios? En caso de que no sean todas iguales unificad el nombre de las columnas"
   ]
  },
  {
   "cell_type": "code",
   "execution_count": 67,
   "metadata": {},
   "outputs": [
    {
     "data": {
      "text/html": [
       "<div>\n",
       "<style scoped>\n",
       "    .dataframe tbody tr th:only-of-type {\n",
       "        vertical-align: middle;\n",
       "    }\n",
       "\n",
       "    .dataframe tbody tr th {\n",
       "        vertical-align: top;\n",
       "    }\n",
       "\n",
       "    .dataframe thead th {\n",
       "        text-align: right;\n",
       "    }\n",
       "</style>\n",
       "<table border=\"1\" class=\"dataframe\">\n",
       "  <thead>\n",
       "    <tr style=\"text-align: right;\">\n",
       "      <th></th>\n",
       "      <th>Unnamed: 0</th>\n",
       "      <th>Unnamed: 0.1</th>\n",
       "      <th>unnamed:_0</th>\n",
       "      <th>case_number</th>\n",
       "      <th>year</th>\n",
       "      <th>type</th>\n",
       "      <th>country</th>\n",
       "      <th>area</th>\n",
       "      <th>location</th>\n",
       "      <th>activity</th>\n",
       "      <th>name</th>\n",
       "      <th>sex_</th>\n",
       "      <th>age</th>\n",
       "      <th>time</th>\n",
       "      <th>species_</th>\n",
       "      <th>href</th>\n",
       "      <th>case_number.2</th>\n",
       "      <th>siglo</th>\n",
       "    </tr>\n",
       "  </thead>\n",
       "  <tbody>\n",
       "    <tr>\n",
       "      <th>0</th>\n",
       "      <td>0</td>\n",
       "      <td>0</td>\n",
       "      <td>0</td>\n",
       "      <td>2018.06.25</td>\n",
       "      <td>2018.0</td>\n",
       "      <td>Boating</td>\n",
       "      <td>USA</td>\n",
       "      <td>California</td>\n",
       "      <td>Oceanside, San Diego County</td>\n",
       "      <td>Paddling</td>\n",
       "      <td>Julie Wolfe</td>\n",
       "      <td>F</td>\n",
       "      <td>57</td>\n",
       "      <td>18h00</td>\n",
       "      <td>White shark</td>\n",
       "      <td>http://sharkattackfile.net/spreadsheets/pdf_di...</td>\n",
       "      <td>2018.06.25</td>\n",
       "      <td>SigloXXI</td>\n",
       "    </tr>\n",
       "    <tr>\n",
       "      <th>1</th>\n",
       "      <td>6</td>\n",
       "      <td>6</td>\n",
       "      <td>6</td>\n",
       "      <td>2018.06.03.a</td>\n",
       "      <td>2018.0</td>\n",
       "      <td>Unprovoked</td>\n",
       "      <td>BRAZIL</td>\n",
       "      <td>Pernambuco</td>\n",
       "      <td>Piedade Beach, Recife</td>\n",
       "      <td>Swimming</td>\n",
       "      <td>Jose Ernesto da Silva</td>\n",
       "      <td>M</td>\n",
       "      <td>18</td>\n",
       "      <td>Late afternoon</td>\n",
       "      <td>Tiger shark</td>\n",
       "      <td>http://sharkattackfile.net/spreadsheets/pdf_di...</td>\n",
       "      <td>2018.06.03.a</td>\n",
       "      <td>SigloXXI</td>\n",
       "    </tr>\n",
       "  </tbody>\n",
       "</table>\n",
       "</div>"
      ],
      "text/plain": [
       "   Unnamed: 0  Unnamed: 0.1  unnamed:_0   case_number    year        type  \\\n",
       "0           0             0           0    2018.06.25  2018.0     Boating   \n",
       "1           6             6           6  2018.06.03.a  2018.0  Unprovoked   \n",
       "\n",
       "  country        area                     location  activity  \\\n",
       "0     USA  California  Oceanside, San Diego County  Paddling   \n",
       "1  BRAZIL  Pernambuco        Piedade Beach, Recife  Swimming   \n",
       "\n",
       "                     name sex_ age            time     species_  \\\n",
       "0             Julie Wolfe    F  57           18h00  White shark   \n",
       "1  Jose Ernesto da Silva     M  18  Late afternoon  Tiger shark   \n",
       "\n",
       "                                                href case_number.2     siglo  \n",
       "0  http://sharkattackfile.net/spreadsheets/pdf_di...    2018.06.25  SigloXXI  \n",
       "1  http://sharkattackfile.net/spreadsheets/pdf_di...  2018.06.03.a  SigloXXI  "
      ]
     },
     "execution_count": 67,
     "metadata": {},
     "output_type": "execute_result"
    }
   ],
   "source": [
    "df_ataques_limpio.head(2)"
   ]
  },
  {
   "cell_type": "code",
   "execution_count": 68,
   "metadata": {},
   "outputs": [
    {
     "data": {
      "text/plain": [
       "Index(['Unnamed: 0', 'Unnamed: 0.1', 'unnamed:_0', 'case_number', 'year',\n",
       "       'type', 'country', 'area', 'location', 'activity', 'name', 'sex_',\n",
       "       'age', 'time', 'species_', 'href', 'case_number.2', 'siglo'],\n",
       "      dtype='object')"
      ]
     },
     "execution_count": 68,
     "metadata": {},
     "output_type": "execute_result"
    }
   ],
   "source": [
    "df_ataques_limpio.columns"
   ]
  },
  {
   "cell_type": "code",
   "execution_count": 69,
   "metadata": {},
   "outputs": [
    {
     "data": {
      "text/plain": [
       "Index(['Unnamed: 0', 'Case Number', 'Year', 'Type', 'Country', 'Area',\n",
       "       'Location', 'Activity', 'Name', 'Sex ', 'Age', 'Time', 'Species ',\n",
       "       'Investigator or Source', 'pdf', 'href formula', 'href',\n",
       "       'Case Number.1', 'Case Number.2', 'original order', 'Unnamed: 22',\n",
       "       'Unnamed: 23'],\n",
       "      dtype='object')"
      ]
     },
     "execution_count": 69,
     "metadata": {},
     "output_type": "execute_result"
    }
   ],
   "source": [
    "df_ataques_hist.columns"
   ]
  },
  {
   "cell_type": "code",
   "execution_count": 70,
   "metadata": {},
   "outputs": [
    {
     "data": {
      "text/plain": [
       "Index(['Unnamed: 0', 'Case Number', 'Fatal (Y/N)', 'Injury', 'Date'], dtype='object')"
      ]
     },
     "execution_count": 70,
     "metadata": {},
     "output_type": "execute_result"
    }
   ],
   "source": [
    "df_ataques_adic.columns"
   ]
  },
  {
   "cell_type": "code",
   "execution_count": 71,
   "metadata": {},
   "outputs": [],
   "source": [
    "col_nueva_limpio = {col :  col.lower().replace(' ', '_') for col in df_ataques_limpio.columns}"
   ]
  },
  {
   "cell_type": "code",
   "execution_count": 72,
   "metadata": {},
   "outputs": [
    {
     "data": {
      "text/html": [
       "<div>\n",
       "<style scoped>\n",
       "    .dataframe tbody tr th:only-of-type {\n",
       "        vertical-align: middle;\n",
       "    }\n",
       "\n",
       "    .dataframe tbody tr th {\n",
       "        vertical-align: top;\n",
       "    }\n",
       "\n",
       "    .dataframe thead th {\n",
       "        text-align: right;\n",
       "    }\n",
       "</style>\n",
       "<table border=\"1\" class=\"dataframe\">\n",
       "  <thead>\n",
       "    <tr style=\"text-align: right;\">\n",
       "      <th></th>\n",
       "      <th>unnamed:_0</th>\n",
       "      <th>unnamed:_0.1</th>\n",
       "      <th>unnamed:_0</th>\n",
       "      <th>case_number</th>\n",
       "      <th>year</th>\n",
       "      <th>type</th>\n",
       "      <th>country</th>\n",
       "      <th>area</th>\n",
       "      <th>location</th>\n",
       "      <th>activity</th>\n",
       "      <th>name</th>\n",
       "      <th>sex_</th>\n",
       "      <th>age</th>\n",
       "      <th>time</th>\n",
       "      <th>species_</th>\n",
       "      <th>href</th>\n",
       "      <th>case_number.2</th>\n",
       "      <th>siglo</th>\n",
       "    </tr>\n",
       "  </thead>\n",
       "  <tbody>\n",
       "    <tr>\n",
       "      <th>0</th>\n",
       "      <td>0</td>\n",
       "      <td>0</td>\n",
       "      <td>0</td>\n",
       "      <td>2018.06.25</td>\n",
       "      <td>2018.0</td>\n",
       "      <td>Boating</td>\n",
       "      <td>USA</td>\n",
       "      <td>California</td>\n",
       "      <td>Oceanside, San Diego County</td>\n",
       "      <td>Paddling</td>\n",
       "      <td>Julie Wolfe</td>\n",
       "      <td>F</td>\n",
       "      <td>57</td>\n",
       "      <td>18h00</td>\n",
       "      <td>White shark</td>\n",
       "      <td>http://sharkattackfile.net/spreadsheets/pdf_di...</td>\n",
       "      <td>2018.06.25</td>\n",
       "      <td>SigloXXI</td>\n",
       "    </tr>\n",
       "  </tbody>\n",
       "</table>\n",
       "</div>"
      ],
      "text/plain": [
       "   unnamed:_0  unnamed:_0.1  unnamed:_0 case_number    year     type country  \\\n",
       "0           0             0           0  2018.06.25  2018.0  Boating     USA   \n",
       "\n",
       "         area                     location  activity         name sex_ age  \\\n",
       "0  California  Oceanside, San Diego County  Paddling  Julie Wolfe    F  57   \n",
       "\n",
       "    time     species_                                               href  \\\n",
       "0  18h00  White shark  http://sharkattackfile.net/spreadsheets/pdf_di...   \n",
       "\n",
       "  case_number.2     siglo  \n",
       "0    2018.06.25  SigloXXI  "
      ]
     },
     "execution_count": 72,
     "metadata": {},
     "output_type": "execute_result"
    }
   ],
   "source": [
    "df_ataques_limpio.rename (columns = col_nueva_limpio, inplace = True)\n",
    "df_ataques_limpio.head(1)"
   ]
  },
  {
   "cell_type": "code",
   "execution_count": 73,
   "metadata": {},
   "outputs": [
    {
     "data": {
      "text/html": [
       "<div>\n",
       "<style scoped>\n",
       "    .dataframe tbody tr th:only-of-type {\n",
       "        vertical-align: middle;\n",
       "    }\n",
       "\n",
       "    .dataframe tbody tr th {\n",
       "        vertical-align: top;\n",
       "    }\n",
       "\n",
       "    .dataframe thead th {\n",
       "        text-align: right;\n",
       "    }\n",
       "</style>\n",
       "<table border=\"1\" class=\"dataframe\">\n",
       "  <thead>\n",
       "    <tr style=\"text-align: right;\">\n",
       "      <th></th>\n",
       "      <th>unnamed:_0</th>\n",
       "      <th>case_number</th>\n",
       "      <th>fatal_(y/n)</th>\n",
       "      <th>injury</th>\n",
       "      <th>date</th>\n",
       "    </tr>\n",
       "  </thead>\n",
       "  <tbody>\n",
       "    <tr>\n",
       "      <th>0</th>\n",
       "      <td>0</td>\n",
       "      <td>2018.06.25</td>\n",
       "      <td>N</td>\n",
       "      <td>No injury to occupant, outrigger canoe and pad...</td>\n",
       "      <td>25-Jun-2018</td>\n",
       "    </tr>\n",
       "  </tbody>\n",
       "</table>\n",
       "</div>"
      ],
      "text/plain": [
       "   unnamed:_0 case_number fatal_(y/n)  \\\n",
       "0           0  2018.06.25           N   \n",
       "\n",
       "                                              injury         date  \n",
       "0  No injury to occupant, outrigger canoe and pad...  25-Jun-2018  "
      ]
     },
     "execution_count": 73,
     "metadata": {},
     "output_type": "execute_result"
    }
   ],
   "source": [
    "col_nueva_limpio1 = {col :  col.lower().replace(' ', '_') for col in df_ataques_adic.columns}\n",
    "df_ataques_adic.rename (columns = col_nueva_limpio1, inplace = True)\n",
    "df_ataques_adic.head(1)"
   ]
  },
  {
   "cell_type": "code",
   "execution_count": 74,
   "metadata": {},
   "outputs": [
    {
     "data": {
      "text/html": [
       "<div>\n",
       "<style scoped>\n",
       "    .dataframe tbody tr th:only-of-type {\n",
       "        vertical-align: middle;\n",
       "    }\n",
       "\n",
       "    .dataframe tbody tr th {\n",
       "        vertical-align: top;\n",
       "    }\n",
       "\n",
       "    .dataframe thead th {\n",
       "        text-align: right;\n",
       "    }\n",
       "</style>\n",
       "<table border=\"1\" class=\"dataframe\">\n",
       "  <thead>\n",
       "    <tr style=\"text-align: right;\">\n",
       "      <th></th>\n",
       "      <th>unnamed:_0</th>\n",
       "      <th>case_number</th>\n",
       "      <th>year</th>\n",
       "      <th>type</th>\n",
       "      <th>country</th>\n",
       "      <th>area</th>\n",
       "      <th>location</th>\n",
       "      <th>activity</th>\n",
       "      <th>name</th>\n",
       "      <th>sex_</th>\n",
       "      <th>...</th>\n",
       "      <th>species_</th>\n",
       "      <th>investigator_or_source</th>\n",
       "      <th>pdf</th>\n",
       "      <th>href_formula</th>\n",
       "      <th>href</th>\n",
       "      <th>case_number.1</th>\n",
       "      <th>case_number.2</th>\n",
       "      <th>original_order</th>\n",
       "      <th>unnamed:_22</th>\n",
       "      <th>unnamed:_23</th>\n",
       "    </tr>\n",
       "  </thead>\n",
       "  <tbody>\n",
       "    <tr>\n",
       "      <th>0</th>\n",
       "      <td>6132</td>\n",
       "      <td>1800.00.00</td>\n",
       "      <td>1800.0</td>\n",
       "      <td>Unprovoked</td>\n",
       "      <td>SEYCHELLES</td>\n",
       "      <td>St. Anne</td>\n",
       "      <td>NaN</td>\n",
       "      <td>a corsair's boat was overturned</td>\n",
       "      <td>NaN</td>\n",
       "      <td>F</td>\n",
       "      <td>...</td>\n",
       "      <td>NaN</td>\n",
       "      <td>V. C. Harvey-Brain</td>\n",
       "      <td>1800.00.00-Corsair-boat.pdf</td>\n",
       "      <td>http://sharkattackfile.net/spreadsheets/pdf_di...</td>\n",
       "      <td>http://sharkattackfile.net/spreadsheets/pdf_di...</td>\n",
       "      <td>1800.00.00</td>\n",
       "      <td>1800.00.00</td>\n",
       "      <td>171.0</td>\n",
       "      <td>NaN</td>\n",
       "      <td>NaN</td>\n",
       "    </tr>\n",
       "  </tbody>\n",
       "</table>\n",
       "<p>1 rows × 22 columns</p>\n",
       "</div>"
      ],
      "text/plain": [
       "   unnamed:_0 case_number    year        type     country      area location  \\\n",
       "0        6132  1800.00.00  1800.0  Unprovoked  SEYCHELLES  St. Anne      NaN   \n",
       "\n",
       "                          activity name sex_  ... species_  \\\n",
       "0  a corsair's boat was overturned  NaN    F  ...      NaN   \n",
       "\n",
       "  investigator_or_source                          pdf  \\\n",
       "0     V. C. Harvey-Brain  1800.00.00-Corsair-boat.pdf   \n",
       "\n",
       "                                        href_formula  \\\n",
       "0  http://sharkattackfile.net/spreadsheets/pdf_di...   \n",
       "\n",
       "                                                href case_number.1  \\\n",
       "0  http://sharkattackfile.net/spreadsheets/pdf_di...    1800.00.00   \n",
       "\n",
       "  case_number.2 original_order unnamed:_22  unnamed:_23  \n",
       "0    1800.00.00          171.0         NaN          NaN  \n",
       "\n",
       "[1 rows x 22 columns]"
      ]
     },
     "execution_count": 74,
     "metadata": {},
     "output_type": "execute_result"
    }
   ],
   "source": [
    "col_nueva_limpio2= {col :  col.lower().replace(' ', '_') for col in df_ataques_hist.columns}\n",
    "df_ataques_hist.rename (columns = col_nueva_limpio2, inplace = True)\n",
    "df_ataques_hist.head(1)"
   ]
  },
  {
   "attachments": {},
   "cell_type": "markdown",
   "metadata": {},
   "source": [
    "3. En este momento nos habremos dado cuenta que el DataFrame que generamos en el pair programming Pandas IV es similar al DataFrame de los datos historicos. Si recordamos, eliminamos algunas columnas en la sesión III que no eran útiles, pero esas columnas están todavía en el histórico. Si no fuera por eso podríamos unir esos dataframes. Realizad los cambios que creais necesarios para que los dataframes sean iguales y luego juntadlos usando el mejor método."
   ]
  },
  {
   "cell_type": "code",
   "execution_count": 78,
   "metadata": {},
   "outputs": [
    {
     "data": {
      "text/plain": [
       "(1502, 18)"
      ]
     },
     "execution_count": 78,
     "metadata": {},
     "output_type": "execute_result"
    }
   ],
   "source": [
    "df_ataques_limpio.shape"
   ]
  },
  {
   "cell_type": "code",
   "execution_count": 83,
   "metadata": {},
   "outputs": [
    {
     "ename": "AttributeError",
     "evalue": "'NoneType' object has no attribute 'shape'",
     "output_type": "error",
     "traceback": [
      "\u001b[0;31m---------------------------------------------------------------------------\u001b[0m",
      "\u001b[0;31mAttributeError\u001b[0m                            Traceback (most recent call last)",
      "\u001b[0;32m/tmp/ipykernel_1466/1128468341.py\u001b[0m in \u001b[0;36m<module>\u001b[0;34m\u001b[0m\n\u001b[0;32m----> 1\u001b[0;31m \u001b[0mdf_ataques_hist\u001b[0m\u001b[0;34m.\u001b[0m\u001b[0mshape\u001b[0m\u001b[0;34m\u001b[0m\u001b[0;34m\u001b[0m\u001b[0m\n\u001b[0m",
      "\u001b[0;31mAttributeError\u001b[0m: 'NoneType' object has no attribute 'shape'"
     ]
    }
   ],
   "source": [
    "df_ataques_hist.shape"
   ]
  },
  {
   "cell_type": "code",
   "execution_count": 82,
   "metadata": {},
   "outputs": [
    {
     "ename": "AttributeError",
     "evalue": "'NoneType' object has no attribute 'drop'",
     "output_type": "error",
     "traceback": [
      "\u001b[0;31m---------------------------------------------------------------------------\u001b[0m",
      "\u001b[0;31mAttributeError\u001b[0m                            Traceback (most recent call last)",
      "\u001b[0;32m/tmp/ipykernel_1466/2574904539.py\u001b[0m in \u001b[0;36m<module>\u001b[0;34m\u001b[0m\n\u001b[0;32m----> 1\u001b[0;31m \u001b[0mdf_ataques_hist\u001b[0m\u001b[0;34m.\u001b[0m\u001b[0mdrop\u001b[0m \u001b[0;34m(\u001b[0m\u001b[0;34m[\u001b[0m\u001b[0;34m'unnamed:_22'\u001b[0m\u001b[0;34m,\u001b[0m\u001b[0;34m'unnamed:_23'\u001b[0m\u001b[0;34m,\u001b[0m \u001b[0;34m'case_number.1'\u001b[0m\u001b[0;34m,\u001b[0m \u001b[0;34m'investigator_or_source'\u001b[0m\u001b[0;34m,\u001b[0m\u001b[0;34m'pdf'\u001b[0m\u001b[0;34m,\u001b[0m \u001b[0;34m'href_formula'\u001b[0m\u001b[0;34m]\u001b[0m\u001b[0;34m,\u001b[0m \u001b[0maxis\u001b[0m\u001b[0;34m=\u001b[0m\u001b[0;36m1\u001b[0m\u001b[0;34m,\u001b[0m \u001b[0minplace\u001b[0m \u001b[0;34m=\u001b[0m \u001b[0;32mTrue\u001b[0m\u001b[0;34m)\u001b[0m\u001b[0;34m\u001b[0m\u001b[0;34m\u001b[0m\u001b[0m\n\u001b[0m\u001b[1;32m      2\u001b[0m \u001b[0;34m\u001b[0m\u001b[0m\n\u001b[1;32m      3\u001b[0m \u001b[0;31m# intentamos la primera vez con todas las columnas y no daba error con 'original_order'. Por fin no salió bien sin original_order. Logo intentamos nuevamente sin original_order y nos ha dado error.\u001b[0m\u001b[0;34m\u001b[0m\u001b[0;34m\u001b[0m\u001b[0m\n",
      "\u001b[0;31mAttributeError\u001b[0m: 'NoneType' object has no attribute 'drop'"
     ]
    }
   ],
   "source": [
    "df_ataques_hist.drop (['unnamed:_22','unnamed:_23', 'case_number.1', 'investigator_or_source','pdf', 'href_formula'], axis=1, inplace = True)\n",
    "\n",
    "# intentamos la primera vez con todas las columnas y no daba error con 'original_order'. Por fin no salió bien sin original_order. Logo intentamos nuevamente sin original_order y nos ha dado error."
   ]
  }
 ],
 "metadata": {
  "kernelspec": {
   "display_name": "base",
   "language": "python",
   "name": "python3"
  },
  "language_info": {
   "codemirror_mode": {
    "name": "ipython",
    "version": 3
   },
   "file_extension": ".py",
   "mimetype": "text/x-python",
   "name": "python",
   "nbconvert_exporter": "python",
   "pygments_lexer": "ipython3",
   "version": "3.9.7"
  },
  "orig_nbformat": 4,
  "vscode": {
   "interpreter": {
    "hash": "67102f693e510b408920f064fed8f652c879a90e6c1ff13ccd6f48ea2114128c"
   }
  }
 },
 "nbformat": 4,
 "nbformat_minor": 2
}
