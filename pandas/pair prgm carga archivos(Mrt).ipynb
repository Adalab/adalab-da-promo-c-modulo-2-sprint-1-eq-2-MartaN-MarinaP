{
 "cells": [
  {
   "cell_type": "code",
   "execution_count": 1,
   "metadata": {},
   "outputs": [],
   "source": [
    "import pandas as pd\n",
    "import numpy as np\n",
    "import pickle"
   ]
  },
  {
   "cell_type": "code",
   "execution_count": null,
   "metadata": {},
   "outputs": [
    {
     "ename": "",
     "evalue": "",
     "output_type": "error",
     "traceback": [
      "\u001b[1;31mRunning cells with 'base' requires ipykernel package.\n",
      "\u001b[1;31mRun the following command to install 'ipykernel' into the Python environment. \n",
      "\u001b[1;31mCommand: 'conda install -n base ipykernel --update-deps --force-reinstall'"
     ]
    }
   ],
   "source": [
    "datos = pd.read_csv (\"quejas.csv\")"
   ]
  },
  {
   "cell_type": "code",
   "execution_count": 14,
   "metadata": {},
   "outputs": [
    {
     "data": {
      "text/html": [
       "<div>\n",
       "<style scoped>\n",
       "    .dataframe tbody tr th:only-of-type {\n",
       "        vertical-align: middle;\n",
       "    }\n",
       "\n",
       "    .dataframe tbody tr th {\n",
       "        vertical-align: top;\n",
       "    }\n",
       "\n",
       "    .dataframe thead th {\n",
       "        text-align: right;\n",
       "    }\n",
       "</style>\n",
       "<table border=\"1\" class=\"dataframe\">\n",
       "  <thead>\n",
       "    <tr style=\"text-align: right;\">\n",
       "      <th></th>\n",
       "      <th>DESCRIPCION_TEMA</th>\n",
       "      <th>DESCRIPCION_SUBTEMA</th>\n",
       "    </tr>\n",
       "  </thead>\n",
       "  <tbody>\n",
       "    <tr>\n",
       "      <th>0</th>\n",
       "      <td>ATENCIÓN AL CIUDADANO</td>\n",
       "      <td>ADMINISTRACIÓN ELECTRÓNICA</td>\n",
       "    </tr>\n",
       "    <tr>\n",
       "      <th>1</th>\n",
       "      <td>ATENCIÓN AL CIUDADANO</td>\n",
       "      <td>FUNCIÓN PÚBLICA</td>\n",
       "    </tr>\n",
       "    <tr>\n",
       "      <th>2</th>\n",
       "      <td>ATENCIÓN AL CIUDADANO</td>\n",
       "      <td>OFICINAS DE ATENCIÓN AL CIUDADANO DE LA COMUNI...</td>\n",
       "    </tr>\n",
       "    <tr>\n",
       "      <th>3</th>\n",
       "      <td>ATENCIÓN AL CIUDADANO</td>\n",
       "      <td>OFICINAS DE REGISTRO DE LA COMUNIDAD DE MADRID</td>\n",
       "    </tr>\n",
       "    <tr>\n",
       "      <th>4</th>\n",
       "      <td>ATENCIÓN AL CIUDADANO</td>\n",
       "      <td>OTROS</td>\n",
       "    </tr>\n",
       "  </tbody>\n",
       "</table>\n",
       "</div>"
      ],
      "text/plain": [
       "        DESCRIPCION_TEMA                                DESCRIPCION_SUBTEMA\n",
       "0  ATENCIÓN AL CIUDADANO                         ADMINISTRACIÓN ELECTRÓNICA\n",
       "1  ATENCIÓN AL CIUDADANO                                    FUNCIÓN PÚBLICA\n",
       "2  ATENCIÓN AL CIUDADANO  OFICINAS DE ATENCIÓN AL CIUDADANO DE LA COMUNI...\n",
       "3  ATENCIÓN AL CIUDADANO     OFICINAS DE REGISTRO DE LA COMUNIDAD DE MADRID\n",
       "4  ATENCIÓN AL CIUDADANO                                              OTROS"
      ]
     },
     "execution_count": 14,
     "metadata": {},
     "output_type": "execute_result"
    }
   ],
   "source": [
    "datos = pd.read_excel (\"C:/Users/marta/Downloads/quejas2.xlsx\")\n",
    "datos.head()"
   ]
  },
  {
   "cell_type": "code",
   "execution_count": 16,
   "metadata": {},
   "outputs": [
    {
     "data": {
      "text/html": [
       "<div>\n",
       "<style scoped>\n",
       "    .dataframe tbody tr th:only-of-type {\n",
       "        vertical-align: middle;\n",
       "    }\n",
       "\n",
       "    .dataframe tbody tr th {\n",
       "        vertical-align: top;\n",
       "    }\n",
       "\n",
       "    .dataframe thead th {\n",
       "        text-align: right;\n",
       "    }\n",
       "</style>\n",
       "<table border=\"1\" class=\"dataframe\">\n",
       "  <thead>\n",
       "    <tr style=\"text-align: right;\">\n",
       "      <th></th>\n",
       "      <th>data</th>\n",
       "    </tr>\n",
       "  </thead>\n",
       "  <tbody>\n",
       "    <tr>\n",
       "      <th>0</th>\n",
       "      <td>{'unidad_descripcion': 'D.G. de Descarbonizaci...</td>\n",
       "    </tr>\n",
       "    <tr>\n",
       "      <th>1</th>\n",
       "      <td>{'unidad_descripcion': 'D.G. de Descarbonizaci...</td>\n",
       "    </tr>\n",
       "    <tr>\n",
       "      <th>2</th>\n",
       "      <td>{'unidad_descripcion': 'D.G. de Descarbonizaci...</td>\n",
       "    </tr>\n",
       "    <tr>\n",
       "      <th>3</th>\n",
       "      <td>{'unidad_descripcion': 'D.G. de Descarbonizaci...</td>\n",
       "    </tr>\n",
       "    <tr>\n",
       "      <th>4</th>\n",
       "      <td>{'unidad_descripcion': 'D.G. de Descarbonizaci...</td>\n",
       "    </tr>\n",
       "  </tbody>\n",
       "</table>\n",
       "</div>"
      ],
      "text/plain": [
       "                                                data\n",
       "0  {'unidad_descripcion': 'D.G. de Descarbonizaci...\n",
       "1  {'unidad_descripcion': 'D.G. de Descarbonizaci...\n",
       "2  {'unidad_descripcion': 'D.G. de Descarbonizaci...\n",
       "3  {'unidad_descripcion': 'D.G. de Descarbonizaci...\n",
       "4  {'unidad_descripcion': 'D.G. de Descarbonizaci..."
      ]
     },
     "execution_count": 16,
     "metadata": {},
     "output_type": "execute_result"
    }
   ],
   "source": [
    "datos= pd.read_json(\"C:/Users/marta/Downloads/quejas.json\")\n",
    "\n",
    "datos.head()"
   ]
  },
  {
   "cell_type": "code",
   "execution_count": 19,
   "metadata": {},
   "outputs": [
    {
     "data": {
      "text/html": [
       "<div>\n",
       "<style scoped>\n",
       "    .dataframe tbody tr th:only-of-type {\n",
       "        vertical-align: middle;\n",
       "    }\n",
       "\n",
       "    .dataframe tbody tr th {\n",
       "        vertical-align: top;\n",
       "    }\n",
       "\n",
       "    .dataframe thead th {\n",
       "        text-align: right;\n",
       "    }\n",
       "</style>\n",
       "<table border=\"1\" class=\"dataframe\">\n",
       "  <thead>\n",
       "    <tr style=\"text-align: right;\">\n",
       "      <th></th>\n",
       "      <th>Unnamed: 0</th>\n",
       "      <th>lon</th>\n",
       "      <th>lat</th>\n",
       "      <th>locality</th>\n",
       "      <th>year</th>\n",
       "      <th>month</th>\n",
       "      <th>kingdom</th>\n",
       "      <th>class</th>\n",
       "      <th>family</th>\n",
       "      <th>genus</th>\n",
       "      <th>species</th>\n",
       "      <th>new</th>\n",
       "      <th>state</th>\n",
       "      <th>country</th>\n",
       "      <th>fecha</th>\n",
       "      <th>day</th>\n",
       "      <th>number_ind</th>\n",
       "    </tr>\n",
       "  </thead>\n",
       "  <tbody>\n",
       "    <tr>\n",
       "      <th>0</th>\n",
       "      <td>22</td>\n",
       "      <td>-70.7167</td>\n",
       "      <td>43.0750</td>\n",
       "      <td>New Castle</td>\n",
       "      <td>1900</td>\n",
       "      <td>5.0</td>\n",
       "      <td>Chromista</td>\n",
       "      <td>Phaeophyceae</td>\n",
       "      <td>Fucaceae</td>\n",
       "      <td>Fucus</td>\n",
       "      <td>Fucus vesiculosus</td>\n",
       "      <td>43.075,-70.7167</td>\n",
       "      <td>New Hampshire</td>\n",
       "      <td>United States</td>\n",
       "      <td>1900-05-01</td>\n",
       "      <td>1</td>\n",
       "      <td>4</td>\n",
       "    </tr>\n",
       "    <tr>\n",
       "      <th>1</th>\n",
       "      <td>23</td>\n",
       "      <td>-70.7167</td>\n",
       "      <td>43.0750</td>\n",
       "      <td>New Castle</td>\n",
       "      <td>1900</td>\n",
       "      <td>5.0</td>\n",
       "      <td>Chromista</td>\n",
       "      <td>Phaeophyceae</td>\n",
       "      <td>Fucaceae</td>\n",
       "      <td>Fucus</td>\n",
       "      <td>Fucus vesiculosus</td>\n",
       "      <td>43.075,-70.7167</td>\n",
       "      <td>New Hampshire</td>\n",
       "      <td>United States</td>\n",
       "      <td>1900-05-01</td>\n",
       "      <td>1</td>\n",
       "      <td>3</td>\n",
       "    </tr>\n",
       "    <tr>\n",
       "      <th>2</th>\n",
       "      <td>24</td>\n",
       "      <td>-70.7167</td>\n",
       "      <td>43.0750</td>\n",
       "      <td>New Castle</td>\n",
       "      <td>1900</td>\n",
       "      <td>5.0</td>\n",
       "      <td>Plantae</td>\n",
       "      <td>Florideophyceae</td>\n",
       "      <td>Palmariaceae</td>\n",
       "      <td>Palmaria</td>\n",
       "      <td>Palmaria palmata</td>\n",
       "      <td>43.075,-70.7167</td>\n",
       "      <td>New Hampshire</td>\n",
       "      <td>United States</td>\n",
       "      <td>1900-05-01</td>\n",
       "      <td>1</td>\n",
       "      <td>9</td>\n",
       "    </tr>\n",
       "    <tr>\n",
       "      <th>3</th>\n",
       "      <td>33</td>\n",
       "      <td>-158.1170</td>\n",
       "      <td>21.5833</td>\n",
       "      <td>Haleiwa</td>\n",
       "      <td>1900</td>\n",
       "      <td>6.0</td>\n",
       "      <td>Plantae</td>\n",
       "      <td>Ulvophyceae</td>\n",
       "      <td>Ulvaceae</td>\n",
       "      <td>Ulva</td>\n",
       "      <td>Ulva lactuca</td>\n",
       "      <td>21.5833,-158.117</td>\n",
       "      <td>Hawaii</td>\n",
       "      <td>United States</td>\n",
       "      <td>1900-06-01</td>\n",
       "      <td>1</td>\n",
       "      <td>7</td>\n",
       "    </tr>\n",
       "    <tr>\n",
       "      <th>4</th>\n",
       "      <td>35</td>\n",
       "      <td>-7.0000</td>\n",
       "      <td>62.1800</td>\n",
       "      <td>Hvalvík</td>\n",
       "      <td>1900</td>\n",
       "      <td>6.0</td>\n",
       "      <td>Chromista</td>\n",
       "      <td>Phaeophyceae</td>\n",
       "      <td>Alariaceae</td>\n",
       "      <td>Alaria</td>\n",
       "      <td>Alaria esculenta</td>\n",
       "      <td>62.18,-7.0</td>\n",
       "      <td>Streymoyar sýsla</td>\n",
       "      <td>Føroyar</td>\n",
       "      <td>1900-06-01</td>\n",
       "      <td>1</td>\n",
       "      <td>4</td>\n",
       "    </tr>\n",
       "  </tbody>\n",
       "</table>\n",
       "</div>"
      ],
      "text/plain": [
       "   Unnamed: 0       lon      lat    locality  year  month    kingdom  \\\n",
       "0          22  -70.7167  43.0750  New Castle  1900    5.0  Chromista   \n",
       "1          23  -70.7167  43.0750  New Castle  1900    5.0  Chromista   \n",
       "2          24  -70.7167  43.0750  New Castle  1900    5.0    Plantae   \n",
       "3          33 -158.1170  21.5833     Haleiwa  1900    6.0    Plantae   \n",
       "4          35   -7.0000  62.1800     Hvalvík  1900    6.0  Chromista   \n",
       "\n",
       "             class        family     genus            species  \\\n",
       "0     Phaeophyceae      Fucaceae     Fucus  Fucus vesiculosus   \n",
       "1     Phaeophyceae      Fucaceae     Fucus  Fucus vesiculosus   \n",
       "2  Florideophyceae  Palmariaceae  Palmaria   Palmaria palmata   \n",
       "3      Ulvophyceae      Ulvaceae      Ulva       Ulva lactuca   \n",
       "4     Phaeophyceae    Alariaceae    Alaria   Alaria esculenta   \n",
       "\n",
       "                new             state        country       fecha  day  \\\n",
       "0   43.075,-70.7167     New Hampshire  United States  1900-05-01    1   \n",
       "1   43.075,-70.7167     New Hampshire  United States  1900-05-01    1   \n",
       "2   43.075,-70.7167     New Hampshire  United States  1900-05-01    1   \n",
       "3  21.5833,-158.117            Hawaii  United States  1900-06-01    1   \n",
       "4        62.18,-7.0  Streymoyar sýsla        Føroyar  1900-06-01    1   \n",
       "\n",
       "   number_ind  \n",
       "0           4  \n",
       "1           3  \n",
       "2           9  \n",
       "3           7  \n",
       "4           4  "
      ]
     },
     "execution_count": 19,
     "metadata": {},
     "output_type": "execute_result"
    }
   ],
   "source": [
    "datos= pd.read_pickle (\"C:/Users/marta/Downloads/algas.pickle\")\n",
    "datos.head ()"
   ]
  },
  {
   "cell_type": "code",
   "execution_count": 27,
   "metadata": {},
   "outputs": [
    {
     "data": {
      "text/plain": [
       "',Content Money and transactions 30-40% 25-35%\\r\\n0,Planning and managing finances 25-35% 20-30%\\r\\n1,Risk and reward 15-25% 20-30%\\r\\n2,Financial landscape 10-20% 15-25%\\r\\n3,Process Identify financial information 15-25% 15-25%\\r\\n4,Analyse financial information and situations 15-25% 25-35%\\r\\n5,Evaluate financial issues 25-35% 25-35%\\r\\n6,Apply financial knowledge and understanding 25-35% 15-25%\\r\\n7,Contexts Education and work 10-20% 10-20%\\r\\n8,Home and family 30-40% 30-40%\\r\\n9,Individual 35-45% 35-45%\\r\\n10,Societal 5-15% 5-15%\\r\\n'"
      ]
     },
     "execution_count": 27,
     "metadata": {},
     "output_type": "execute_result"
    }
   ],
   "source": [
    "pisa= pd.read_clipboard (sep='\\t')\n",
    "pisa.head(10)\n",
    "pisa.to_csv ()# y como se guarda??"
   ]
  },
  {
   "cell_type": "code",
   "execution_count": null,
   "metadata": {},
   "outputs": [],
   "source": [
    "pisa2= pd.read_tmp "
   ]
  }
 ],
 "metadata": {
  "kernelspec": {
   "display_name": "base",
   "language": "python",
   "name": "python3"
  },
  "language_info": {
   "codemirror_mode": {
    "name": "ipython",
    "version": 3
   },
   "file_extension": ".py",
   "mimetype": "text/x-python",
   "name": "python",
   "nbconvert_exporter": "python",
   "pygments_lexer": "ipython3",
   "version": "3.9.7 (default, Sep 16 2021, 13:09:58) \n[GCC 7.5.0]"
  },
  "orig_nbformat": 4,
  "vscode": {
   "interpreter": {
    "hash": "e61300d61847ccc4b73188ddef9738f9820dab90378395ffa79ee755f5db208e"
   }
  }
 },
 "nbformat": 4,
 "nbformat_minor": 2
}
