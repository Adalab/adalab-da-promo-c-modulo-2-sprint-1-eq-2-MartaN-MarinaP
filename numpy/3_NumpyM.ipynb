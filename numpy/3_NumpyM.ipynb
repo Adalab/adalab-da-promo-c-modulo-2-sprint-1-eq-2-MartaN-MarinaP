{
 "cells": [
  {
   "attachments": {},
   "cell_type": "markdown",
   "metadata": {},
   "source": [
    "1-4. cread un array de tres dimensiones de 2 matrices, 3 filas y 5 columnas cuyos valores solo tengan 1 decimales. Sobre el array creado anteriormente, extraed:\n",
    "Calculad la media del array y almacenarlos en una variable. Redondead a un decimal.\n",
    "Calculad el valor máximo del array y almacenarlos en una variable. Redondead a un decimal.\n",
    "Calculad el valor mínimo del array y almacenarlos en una variable. Redondead a un decimal."
   ]
  },
  {
   "cell_type": "code",
   "execution_count": 3,
   "metadata": {},
   "outputs": [],
   "source": [
    "import numpy as np"
   ]
  },
  {
   "cell_type": "code",
   "execution_count": 4,
   "metadata": {},
   "outputs": [
    {
     "data": {
      "text/plain": [
       "array([[[0.6, 0.8, 0.7, 0.6, 0.8],\n",
       "        [0. , 0.6, 0.9, 1. , 0.4],\n",
       "        [0.1, 0.1, 0.1, 0.7, 0.5]],\n",
       "\n",
       "       [[0.5, 0.3, 0.1, 0.7, 0.5],\n",
       "        [0.3, 0.7, 1. , 0.1, 0.5],\n",
       "        [0.9, 0.7, 0.6, 0.1, 0.1]]])"
      ]
     },
     "execution_count": 4,
     "metadata": {},
     "output_type": "execute_result"
    }
   ],
   "source": [
    "\n",
    "array1= np.round ((np.random.rand (2,3,5)), decimals=1)\n",
    "array1\n"
   ]
  },
  {
   "cell_type": "code",
   "execution_count": 5,
   "metadata": {},
   "outputs": [
    {
     "data": {
      "text/plain": [
       "0.5"
      ]
     },
     "execution_count": 5,
     "metadata": {},
     "output_type": "execute_result"
    }
   ],
   "source": [
    "#media = np.mean (array1)\n",
    "media= np.round ((np.mean(array1)), decimals=1)\n",
    "media"
   ]
  },
  {
   "cell_type": "code",
   "execution_count": 6,
   "metadata": {},
   "outputs": [
    {
     "data": {
      "text/plain": [
       "1.0"
      ]
     },
     "execution_count": 6,
     "metadata": {},
     "output_type": "execute_result"
    }
   ],
   "source": [
    "maximo = np.max (array1)\n",
    "maximo2 = np.round (maximo, decimals=1)\n",
    "maximo2"
   ]
  },
  {
   "cell_type": "code",
   "execution_count": 7,
   "metadata": {},
   "outputs": [
    {
     "data": {
      "text/plain": [
       "0.0"
      ]
     },
     "execution_count": 7,
     "metadata": {},
     "output_type": "execute_result"
    }
   ],
   "source": [
    "minimo= np.round ((np.min (array1)), decimals=1)\n",
    "minimo"
   ]
  },
  {
   "attachments": {},
   "cell_type": "markdown",
   "metadata": {},
   "source": [
    "5. Cread un array vacío con la misma forma y dimensiones que el array creado anteriormente.\n",
    "Vamos a reemplazar los valores de la matriz vacía que nos acabamos de crear pero basándonos en los valores del primer array bajo las siguientes condiciones:\n",
    "Si el valor del array es igual que la media, se reemplaza por \"A\".\n",
    "Si el valor del array es mayor que la media, se reemplaza por \"B\".\n",
    "Si el valor del array es menor que la media, se reemplaza por \"C\".\n",
    "Si el valor es igual que el máximo, se reemplaza por \"D\".\n",
    "Si el valor es igual que el mínimo, se reemplaza por \"E\"."
   ]
  },
  {
   "cell_type": "code",
   "execution_count": 8,
   "metadata": {},
   "outputs": [
    {
     "data": {
      "text/plain": [
       "array([[[0.6, 0.8, 0.7, 0.6, 0.8],\n",
       "        [0. , 0.6, 0.9, 1. , 0.4],\n",
       "        [0.1, 0.1, 0.1, 0.7, 0.5]],\n",
       "\n",
       "       [[0.5, 0.3, 0.1, 0.7, 0.5],\n",
       "        [0.3, 0.7, 1. , 0.1, 0.5],\n",
       "        [0.9, 0.7, 0.6, 0.1, 0.1]]])"
      ]
     },
     "execution_count": 8,
     "metadata": {},
     "output_type": "execute_result"
    }
   ],
   "source": [
    "array1"
   ]
  },
  {
   "cell_type": "code",
   "execution_count": 9,
   "metadata": {},
   "outputs": [
    {
     "data": {
      "text/plain": [
       "array([[[0.6, 0.8, 0.7, 0.6, 0.8],\n",
       "        [0. , 0.6, 0.9, 1. , 0.4],\n",
       "        [0.1, 0.1, 0.1, 0.7, 0.5]],\n",
       "\n",
       "       [[0.5, 0.3, 0.1, 0.7, 0.5],\n",
       "        [0.3, 0.7, 1. , 0.1, 0.5],\n",
       "        [0.9, 0.7, 0.6, 0.1, 0.1]]])"
      ]
     },
     "execution_count": 9,
     "metadata": {},
     "output_type": "execute_result"
    }
   ],
   "source": [
    "vacio= np.empty_like (array1)\n",
    "vacio"
   ]
  },
  {
   "cell_type": "code",
   "execution_count": 10,
   "metadata": {},
   "outputs": [
    {
     "name": "stdout",
     "output_type": "stream",
     "text": [
      "0.5\n",
      "1.0\n",
      "0.0\n"
     ]
    }
   ],
   "source": [
    "media= np.mean (array1).round(decimals=1)\n",
    "print(media)\n",
    "max= np.max(array1)\n",
    "print(max)\n",
    "min=np.min(array1)\n",
    "print(min)"
   ]
  },
  {
   "cell_type": "code",
   "execution_count": 11,
   "metadata": {},
   "outputs": [
    {
     "data": {
      "text/plain": [
       "array([[['B', 'B', 'B', 'B', 'B'],\n",
       "        ['C', 'B', 'B', 'D', 'C'],\n",
       "        ['C', 'C', 'C', 'B', 'A']],\n",
       "\n",
       "       [['A', 'C', 'C', 'B', 'A'],\n",
       "        ['C', 'B', 'D', 'C', 'A'],\n",
       "        ['B', 'B', 'B', 'C', 'C']]], dtype='<U32')"
      ]
     },
     "execution_count": 11,
     "metadata": {},
     "output_type": "execute_result"
    }
   ],
   "source": [
    "vacio=np.where(array1 == media, 'A', vacio) #en este primer paso ademas de sustituir los valores por A, convierte todos los numeros en strings\n",
    "vacio=np.where (array1>media, 'B', vacio)\n",
    "vacio=np.where (array1<media, 'C', vacio)\n",
    "vacio=np.where (array1==max, 'D', vacio)\n",
    "vacio=np.where (array1<min, 'E', vacio)\n",
    "vacio\n",
    "##se podria usar inplance=true "
   ]
  },
  {
   "cell_type": "code",
   "execution_count": 13,
   "metadata": {},
   "outputs": [
    {
     "name": "stdout",
     "output_type": "stream",
     "text": [
      "[[['B' 'B' 'B' 'B' 'B']\n",
      "  ['C' 'B' 'B' 'B' 'C']\n",
      "  ['C' 'C' 'C' 'B' 'B']]\n",
      "\n",
      " [['B' 'C' 'C' 'B' 'B']\n",
      "  ['C' 'B' 'B' 'C' 'B']\n",
      "  ['B' 'B' 'B' 'C' 'C']]]\n"
     ]
    }
   ],
   "source": [
    "for x in range(0,2):\n",
    "    for y in range(0,3):\n",
    "        for z in range(0,5):\n",
    "                    \n",
    "            if array1[x][y][z]== np.mean (array1):\n",
    "                    vacio[x][y][z]=\"A\"\n",
    "                \n",
    "            elif array1[x][y][z] > np.mean(array1):\n",
    "                    vacio[x][y][z]=\"B\"\n",
    "\n",
    "                \n",
    "            elif array1[x][y][z]< np.mean(array1):\n",
    "                    vacio[x][y][z]=\"C\"\n",
    "                \n",
    "            elif array1[x][y][z]== np.max (array1):\n",
    "                    vacio[x][y][z]=\"D\"\n",
    "                                \n",
    "            elif array1[x][y][z]== np.min (array1):\n",
    "                    vacio[x][y][z]=\"E\"\n",
    "print(vacio)"
   ]
  },
  {
   "attachments": {},
   "cell_type": "markdown",
   "metadata": {},
   "source": [
    "6. Ahora realizaremos un ejercicio similar al anterior, pero en este caso nos crearemos un array vacío unidimensional de 30 elementos. Al final de este ejercicio acabaremos teniendo un array de tres dimensiones con la misma forma que el primero que nos creamos.\n",
    "En este caso:\n",
    "- Si el valor del array creado en el ejercicio anterior es \"A\" o \"B\" lo reemplazaremos por 1\n",
    "- Si el valor del array creado en el ejercicio anterior es \"C\" o \"D\" lo reemplazaremos por 2\n",
    "- Si el valor del array creado en el ejercicio anterior es \"E\" lo reemplazaremos por 3.\n",
    "Una vez que hayas reemplazado todos los valores cambiad la forma del array para que sea de tres dimensiones, con 2 matrices, 3 filas y 5 columnas."
   ]
  },
  {
   "cell_type": "code",
   "execution_count": 14,
   "metadata": {},
   "outputs": [
    {
     "data": {
      "text/plain": [
       "array([[['B', 'B', 'B', 'B', 'B'],\n",
       "        ['C', 'B', 'B', 'B', 'C'],\n",
       "        ['C', 'C', 'C', 'B', 'B']],\n",
       "\n",
       "       [['B', 'C', 'C', 'B', 'B'],\n",
       "        ['C', 'B', 'B', 'C', 'B'],\n",
       "        ['B', 'B', 'B', 'C', 'C']]], dtype='<U32')"
      ]
     },
     "execution_count": 14,
     "metadata": {},
     "output_type": "execute_result"
    }
   ],
   "source": [
    "vacio"
   ]
  },
  {
   "cell_type": "code",
   "execution_count": 15,
   "metadata": {},
   "outputs": [
    {
     "data": {
      "text/plain": [
       "array([0.6, 0.8, 0.7, 0.6, 0.8, 0. , 0.6, 0.9, 1. , 0.4, 0.1, 0.1, 0.1,\n",
       "       0.7, 0.5, 0.5, 0.3, 0.1, 0.7, 0.5, 0.3, 0.7, 1. , 0.1, 0.5, 0.9,\n",
       "       0.7, 0.6, 0.1, 0.1])"
      ]
     },
     "execution_count": 15,
     "metadata": {},
     "output_type": "execute_result"
    }
   ],
   "source": [
    "array30= np.empty (30) #creamos un nuevo array de 30 elementos\n",
    "array30"
   ]
  },
  {
   "cell_type": "code",
   "execution_count": 17,
   "metadata": {},
   "outputs": [
    {
     "data": {
      "text/plain": [
       "array(['B', 'B', 'B', 'B', 'B', 'C', 'B', 'B', 'B', 'C', 'C', 'C', 'C',\n",
       "       'B', 'B', 'B', 'C', 'C', 'B', 'B', 'C', 'B', 'B', 'C', 'B', 'B',\n",
       "       'B', 'B', 'C', 'C'], dtype='<U32')"
      ]
     },
     "execution_count": 17,
     "metadata": {},
     "output_type": "execute_result"
    }
   ],
   "source": [
    "vacio2=vacio.reshape(30) #para poder hacer el bucle convertimos a las mismas dimensiones que el array30\n",
    "vacio2"
   ]
  },
  {
   "cell_type": "code",
   "execution_count": 19,
   "metadata": {},
   "outputs": [
    {
     "data": {
      "text/plain": [
       "array([1., 1., 1., 1., 1., 2., 1., 1., 1., 2., 2., 2., 2., 1., 1., 1., 2.,\n",
       "       2., 1., 1., 2., 1., 1., 2., 1., 1., 1., 1., 2., 2.])"
      ]
     },
     "execution_count": 19,
     "metadata": {},
     "output_type": "execute_result"
    }
   ],
   "source": [
    "for x in range (0,30):\n",
    "    if vacio2 [x] == \"A\":\n",
    "        array30 [x] = 1\n",
    "    elif vacio2[x] == \"B\":\n",
    "        array30 [x] = 1\n",
    "    elif vacio2 [x] == \"C\":\n",
    "        array30 [x] = 2\n",
    "    elif vacio2 [x] == \"D\":\n",
    "        array30 [x] = 2\n",
    "    elif vacio2 [x] == \"E\":\n",
    "        array30 [x] = 3\n",
    "array30"
   ]
  },
  {
   "cell_type": "code",
   "execution_count": 21,
   "metadata": {},
   "outputs": [
    {
     "data": {
      "text/plain": [
       "array([[[1., 1., 1., 1., 1.],\n",
       "        [2., 1., 1., 1., 2.],\n",
       "        [2., 2., 2., 1., 1.]],\n",
       "\n",
       "       [[1., 2., 2., 1., 1.],\n",
       "        [2., 1., 1., 2., 1.],\n",
       "        [1., 1., 1., 2., 2.]]])"
      ]
     },
     "execution_count": 21,
     "metadata": {},
     "output_type": "execute_result"
    }
   ],
   "source": [
    "array_final=array30.reshape(2,3,5) #convertimos el resultado a un array de dimensiones 2,3,5\n",
    "array_final"
   ]
  }
 ],
 "metadata": {
  "kernelspec": {
   "display_name": "Python 3",
   "language": "python",
   "name": "python3"
  },
  "language_info": {
   "codemirror_mode": {
    "name": "ipython",
    "version": 3
   },
   "file_extension": ".py",
   "mimetype": "text/x-python",
   "name": "python",
   "nbconvert_exporter": "python",
   "pygments_lexer": "ipython3",
   "version": "3.6.9 (default, Mar 15 2022, 13:55:28) \n[GCC 8.4.0]"
  },
  "orig_nbformat": 4,
  "vscode": {
   "interpreter": {
    "hash": "31f2aee4e71d21fbe5cf8b01ff0e069b9275f58929596ceb00d14d90e3e16cd6"
   }
  }
 },
 "nbformat": 4,
 "nbformat_minor": 2
}
