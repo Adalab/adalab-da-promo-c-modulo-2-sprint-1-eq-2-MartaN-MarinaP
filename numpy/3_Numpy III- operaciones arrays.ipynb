{
 "cells": [
  {
   "attachments": {},
   "cell_type": "markdown",
   "metadata": {},
   "source": [
    "1-4. cread un array de tres dimensiones de 2 matrices, 3 filas y 5 columnas cuyos valores solo tengan 1 decimales. Sobre el array creado anteriormente, extraed:\n",
    "Calculad la media del array y almacenarlos en una variable. Redondead a un decimal.\n",
    "Calculad el valor máximo del array y almacenarlos en una variable. Redondead a un decimal.\n",
    "Calculad el valor mínimo del array y almacenarlos en una variable. Redondead a un decimal."
   ]
  },
  {
   "cell_type": "code",
   "execution_count": 12,
   "metadata": {},
   "outputs": [],
   "source": [
    "import numpy as np"
   ]
  },
  {
   "cell_type": "code",
   "execution_count": 11,
   "metadata": {},
   "outputs": [
    {
     "data": {
      "text/plain": [
       "array([[[0.6, 0.9, 0.9, 0.1, 0.3],\n",
       "        [0.5, 0.5, 0.3, 0.3, 0.8],\n",
       "        [0.2, 0.3, 0.5, 0.8, 0.4]],\n",
       "\n",
       "       [[0.6, 0. , 0.1, 0.2, 0.9],\n",
       "        [0.6, 1. , 0.8, 0.1, 0.5],\n",
       "        [0.1, 0.5, 0.9, 0.3, 0.8]]])"
      ]
     },
     "execution_count": 11,
     "metadata": {},
     "output_type": "execute_result"
    }
   ],
   "source": [
    "\n",
    "array1= np.round ((np.random.rand (2,3,5)), decimals=1)\n",
    "array1\n"
   ]
  },
  {
   "cell_type": "code",
   "execution_count": 18,
   "metadata": {},
   "outputs": [
    {
     "data": {
      "text/plain": [
       "0.5"
      ]
     },
     "execution_count": 18,
     "metadata": {},
     "output_type": "execute_result"
    }
   ],
   "source": [
    "#media = np.mean (array1)\n",
    "media= np.round ((np.mean(array1)), decimals=1)\n",
    "media"
   ]
  },
  {
   "cell_type": "code",
   "execution_count": 20,
   "metadata": {},
   "outputs": [
    {
     "data": {
      "text/plain": [
       "1.0"
      ]
     },
     "execution_count": 20,
     "metadata": {},
     "output_type": "execute_result"
    }
   ],
   "source": [
    "maximo = np.max (array1)\n",
    "maximo2 = np.round (maximo, decimals=1)\n",
    "maximo2"
   ]
  },
  {
   "cell_type": "code",
   "execution_count": 22,
   "metadata": {},
   "outputs": [
    {
     "data": {
      "text/plain": [
       "0.0"
      ]
     },
     "execution_count": 22,
     "metadata": {},
     "output_type": "execute_result"
    }
   ],
   "source": [
    "minimo= np.round ((np.min (array1)), decimals=1)\n",
    "minimo"
   ]
  },
  {
   "attachments": {},
   "cell_type": "markdown",
   "metadata": {},
   "source": [
    "5. Cread un array vacío con la misma forma y dimensiones que el array creado anteriormente.\n",
    "Vamos a reemplazar los valores de la matriz vacía que nos acabamos de crear pero basándonos en los valores del primer array bajo las siguientes condiciones:\n",
    "Si el valor del array es igual que la media, se reemplaza por \"A\".\n",
    "Si el valor del array es mayor que la media, se reemplaza por \"B\".\n",
    "Si el valor del array es menor que la media, se reemplaza por \"C\".\n",
    "Si el valor es igual que el máximo, se reemplaza por \"D\".\n",
    "Si el valor es igual que el mínimo, se reemplaza por \"E\"."
   ]
  },
  {
   "cell_type": "code",
   "execution_count": 26,
   "metadata": {},
   "outputs": [
    {
     "data": {
      "text/plain": [
       "array([[[0.6, 0.9, 0.9, 0.1, 0.3],\n",
       "        [0.5, 0.5, 0.3, 0.3, 0.8],\n",
       "        [0.2, 0.3, 0.5, 0.8, 0.4]],\n",
       "\n",
       "       [[0.6, 0. , 0.1, 0.2, 0.9],\n",
       "        [0.6, 1. , 0.8, 0.1, 0.5],\n",
       "        [0.1, 0.5, 0.9, 0.3, 0.8]]])"
      ]
     },
     "execution_count": 26,
     "metadata": {},
     "output_type": "execute_result"
    }
   ],
   "source": [
    "array1"
   ]
  },
  {
   "cell_type": "code",
   "execution_count": 24,
   "metadata": {},
   "outputs": [
    {
     "data": {
      "text/plain": [
       "array([[[0.58456368, 0.85166362, 0.88573211, 0.07143815, 0.30966586],\n",
       "        [0.54999694, 0.54203693, 0.30538229, 0.28354826, 0.79906533],\n",
       "        [0.23385329, 0.26658341, 0.47246585, 0.79625464, 0.39726426]],\n",
       "\n",
       "       [[0.56712312, 0.02088509, 0.11149309, 0.2346865 , 0.88344665],\n",
       "        [0.60778251, 0.95750117, 0.79463634, 0.12004505, 0.50759802],\n",
       "        [0.07037472, 0.46125507, 0.91957748, 0.30088084, 0.76979233]]])"
      ]
     },
     "execution_count": 24,
     "metadata": {},
     "output_type": "execute_result"
    }
   ],
   "source": [
    "vacio= np.empty_like (array1)\n",
    "vacio"
   ]
  },
  {
   "cell_type": "code",
   "execution_count": 29,
   "metadata": {},
   "outputs": [
    {
     "data": {
      "text/plain": [
       "0.4933333333333334"
      ]
     },
     "execution_count": 29,
     "metadata": {},
     "output_type": "execute_result"
    }
   ],
   "source": [
    "np.mean (array1)\n"
   ]
  },
  {
   "cell_type": "code",
   "execution_count": 34,
   "metadata": {},
   "outputs": [
    {
     "data": {
      "text/plain": [
       "(array([0, 0, 0, 0, 0, 0, 0, 0, 1, 1, 1, 1, 1, 1, 1, 1, 1], dtype=int64),\n",
       " array([0, 0, 0, 1, 1, 1, 2, 2, 0, 0, 1, 1, 1, 1, 2, 2, 2], dtype=int64),\n",
       " array([0, 1, 2, 0, 1, 4, 2, 3, 0, 4, 0, 1, 2, 4, 1, 2, 4], dtype=int64))"
      ]
     },
     "execution_count": 34,
     "metadata": {},
     "output_type": "execute_result"
    }
   ],
   "source": [
    "np.where(array1 > 0.4)"
   ]
  },
  {
   "cell_type": "code",
   "execution_count": 43,
   "metadata": {},
   "outputs": [
    {
     "ename": "SyntaxError",
     "evalue": "closing parenthesis ']' does not match opening parenthesis '(' (2964154578.py, line 4)",
     "output_type": "error",
     "traceback": [
      "\u001b[1;36m  Cell \u001b[1;32mIn [43], line 4\u001b[1;36m\u001b[0m\n\u001b[1;33m    vacio [(np.where (num == np.mean (array1))] = ['A']\u001b[0m\n\u001b[1;37m                                              ^\u001b[0m\n\u001b[1;31mSyntaxError\u001b[0m\u001b[1;31m:\u001b[0m closing parenthesis ']' does not match opening parenthesis '('\n"
     ]
    }
   ],
   "source": [
    "for i in array1:\n",
    "    for num in i:\n",
    "        if num == np.mean (array1):\n",
    "\n",
    "\n",
    "\n",
    "            #vacio [(np.where (num == np.mean (array1))] = ['A']\n",
    "                       \n",
    "           # vacio[[][i][num]] = ['A']\n",
    "        "
   ]
  },
  {
   "cell_type": "code",
   "execution_count": 25,
   "metadata": {},
   "outputs": [
    {
     "data": {
      "text/plain": [
       "(2, 3, 5)"
      ]
     },
     "execution_count": 25,
     "metadata": {},
     "output_type": "execute_result"
    }
   ],
   "source": [
    "np.shape (array1)"
   ]
  },
  {
   "cell_type": "code",
   "execution_count": null,
   "metadata": {},
   "outputs": [],
   "source": []
  }
 ],
 "metadata": {
  "kernelspec": {
   "display_name": "Python 3",
   "language": "python",
   "name": "python3"
  },
  "language_info": {
   "codemirror_mode": {
    "name": "ipython",
    "version": 3
   },
   "file_extension": ".py",
   "mimetype": "text/x-python",
   "name": "python",
   "nbconvert_exporter": "python",
   "pygments_lexer": "ipython3",
   "version": "3.10.9 (tags/v3.10.9:1dd9be6, Dec  6 2022, 20:01:21) [MSC v.1934 64 bit (AMD64)]"
  },
  "orig_nbformat": 4,
  "vscode": {
   "interpreter": {
    "hash": "386358fdc1fd0de6900d07d882f42fc953f23690ede61ed9b4d9d7c82a6402d7"
   }
  }
 },
 "nbformat": 4,
 "nbformat_minor": 2
}
