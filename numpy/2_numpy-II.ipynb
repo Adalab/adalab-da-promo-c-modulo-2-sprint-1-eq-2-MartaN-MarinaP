{
 "cells": [
  {
   "cell_type": "code",
   "execution_count": 2,
   "metadata": {},
   "outputs": [],
   "source": [
    "import numpy as np"
   ]
  },
  {
   "cell_type": "code",
   "execution_count": 3,
   "metadata": {},
   "outputs": [
    {
     "data": {
      "text/plain": [
       "array([[0.83945108, 0.68398866, 0.19940361],\n",
       "       [0.84704224, 0.48422453, 0.09772948],\n",
       "       [0.13138101, 0.04166321, 0.05289521],\n",
       "       [0.46832952, 0.03345557, 0.93431135],\n",
       "       [0.15451836, 0.08431471, 0.49971968]])"
      ]
     },
     "execution_count": 3,
     "metadata": {},
     "output_type": "execute_result"
    }
   ],
   "source": [
    "# 1 Cread un array de dos dimensiones de 5 filas y 3 columnas. Sobre el array creado anteriormente, extraed:\n",
    "a1 = np.random.rand(5,3)\n",
    "a1"
   ]
  },
  {
   "cell_type": "code",
   "execution_count": 4,
   "metadata": {},
   "outputs": [
    {
     "data": {
      "text/plain": [
       "0.6839886597229964"
      ]
     },
     "execution_count": 4,
     "metadata": {},
     "output_type": "execute_result"
    }
   ],
   "source": [
    "# El valor de la primera fila y la segunda columna.\n",
    "a1[0, 1]"
   ]
  },
  {
   "cell_type": "code",
   "execution_count": 5,
   "metadata": {},
   "outputs": [
    {
     "data": {
      "text/plain": [
       "array([0.84704224, 0.48422453])"
      ]
     },
     "execution_count": 5,
     "metadata": {},
     "output_type": "execute_result"
    }
   ],
   "source": [
    "# Los valores de la segunda fila y las dos primeras columnas.\n",
    "a1[1,:2]"
   ]
  },
  {
   "cell_type": "code",
   "execution_count": 6,
   "metadata": {},
   "outputs": [
    {
     "data": {
      "text/plain": [
       "array([[0.83945108, 0.68398866, 0.19940361],\n",
       "       [0.13138101, 0.04166321, 0.05289521],\n",
       "       [0.15451836, 0.08431471, 0.49971968]])"
      ]
     },
     "execution_count": 6,
     "metadata": {},
     "output_type": "execute_result"
    }
   ],
   "source": [
    "#  Extraed las filas pares (incluyendo la 0) y todas las columnas.\n",
    "a1[0::2]"
   ]
  },
  {
   "cell_type": "code",
   "execution_count": 7,
   "metadata": {},
   "outputs": [
    {
     "data": {
      "text/plain": [
       "array([0.83945108, 0.68398866, 0.84704224, 0.93431135])"
      ]
     },
     "execution_count": 7,
     "metadata": {},
     "output_type": "execute_result"
    }
   ],
   "source": [
    "# Extraed los valores que sean mayores que 0.5.\n",
    "a1[a1>0.5]"
   ]
  },
  {
   "cell_type": "code",
   "execution_count": 8,
   "metadata": {},
   "outputs": [
    {
     "data": {
      "text/plain": [
       "array([0.83945108, 0.68398866, 0.19940361, 0.84704224, 0.09772948,\n",
       "       0.13138101, 0.04166321, 0.05289521, 0.03345557, 0.93431135,\n",
       "       0.15451836, 0.08431471])"
      ]
     },
     "execution_count": 8,
     "metadata": {},
     "output_type": "execute_result"
    }
   ],
   "source": [
    "# Extraed los valores menores que 0.2 o mayores que 0.5   \n",
    "a1[(a1<0.2) | (a1>0.5)]"
   ]
  },
  {
   "cell_type": "code",
   "execution_count": 9,
   "metadata": {},
   "outputs": [],
   "source": [
    "# 2 Cread dos array de tres dimensiones:\n",
    "# El primero de 2 matrices, 5 filas y 3 columnas.\n",
    "# El segundo de 3 matrices, 2 filas y 5 columnas\n",
    "\n",
    "a2 = np.random.randint(0,20,(2,5,3))\n",
    "a3 = np.random.randint(0,20,(3,2,5))"
   ]
  },
  {
   "cell_type": "code",
   "execution_count": 10,
   "metadata": {},
   "outputs": [],
   "source": [
    "# Haced un análisis exploratorio de los array creados. Recordad que en el ejercicio de ayer nos creamos una \n",
    "# función para esto.\n",
    "        \n",
    "def propiedades_array (i):\n",
    "    print (i.shape, i.size, i.ndim, i.dtype)\n",
    "        "
   ]
  },
  {
   "cell_type": "code",
   "execution_count": 11,
   "metadata": {},
   "outputs": [
    {
     "name": "stdout",
     "output_type": "stream",
     "text": [
      "(2, 5, 3) 30 3 int64\n"
     ]
    }
   ],
   "source": [
    "propiedades_array (a2)"
   ]
  },
  {
   "cell_type": "code",
   "execution_count": 12,
   "metadata": {},
   "outputs": [
    {
     "name": "stdout",
     "output_type": "stream",
     "text": [
      "(3, 2, 5) 30 3 int64\n"
     ]
    }
   ],
   "source": [
    "propiedades_array (a3)"
   ]
  },
  {
   "cell_type": "code",
   "execution_count": 13,
   "metadata": {},
   "outputs": [],
   "source": [
    "# Sumad los dos arrays. ¿Podéis? ¿Por qué?\n",
    "\n",
    "        # no se puede por distintos nº de matriz"
   ]
  },
  {
   "cell_type": "code",
   "execution_count": 14,
   "metadata": {},
   "outputs": [
    {
     "data": {
      "text/plain": [
       "array([[[10,  8,  8,  4, 19],\n",
       "        [14, 18,  5,  2, 18]],\n",
       "\n",
       "       [[19, 11,  0, 18, 14],\n",
       "        [18,  0,  5,  9, 17]],\n",
       "\n",
       "       [[ 9,  6,  8,  3, 11],\n",
       "        [ 2,  9, 17,  7,  2]]])"
      ]
     },
     "execution_count": 14,
     "metadata": {},
     "output_type": "execute_result"
    }
   ],
   "source": [
    "# Para cambiar la forma de un array y poder hacer operaciones entre arrays que tienen distintas formas hemos \n",
    "# aprendido dos métodos:\n",
    "        # .reshape()\n",
    "        #.transpose()\n",
    "        \n",
    "a2.reshape(3,2,5)"
   ]
  },
  {
   "cell_type": "code",
   "execution_count": 15,
   "metadata": {},
   "outputs": [],
   "source": [
    "#.transpose()\n",
    "\n",
    "# a2 = np.random.randint(0,20,(2,5,3))\n",
    "# a3 = np.random.randint(0,20,(3,2,5))\n",
    "\n",
    "a4 =np.transpose(a2, (2,0,1))"
   ]
  },
  {
   "cell_type": "code",
   "execution_count": 16,
   "metadata": {},
   "outputs": [
    {
     "data": {
      "text/plain": [
       "array([[[29,  8, 27, 20, 14],\n",
       "        [21, 13, 14, 17, 26]],\n",
       "\n",
       "       [[ 9, 28, 12, 31, 23],\n",
       "        [13, 36, 20,  8, 15]],\n",
       "\n",
       "       [[12, 23, 11, 30, 30],\n",
       "        [23, 27,  7, 27,  6]]])"
      ]
     },
     "execution_count": 16,
     "metadata": {},
     "output_type": "execute_result"
    }
   ],
   "source": [
    "# y hacer operaciones entre ellos\n",
    "\n",
    "a_suma = (a4 + a3)\n",
    "a_suma"
   ]
  },
  {
   "cell_type": "code",
   "execution_count": 17,
   "metadata": {},
   "outputs": [
    {
     "data": {
      "text/plain": [
       "array([[[29,  8, 27, 20, 14],\n",
       "        [21, 13, 14, 17, 26]],\n",
       "\n",
       "       [[ 9, 28, 12, 31, 23],\n",
       "        [13, 36, 20,  8, 15]],\n",
       "\n",
       "       [[12, 23, 11, 30, 30],\n",
       "        [23, 27,  7, 27,  6]]])"
      ]
     },
     "execution_count": 17,
     "metadata": {},
     "output_type": "execute_result"
    }
   ],
   "source": [
    "# suma alter.\n",
    "np.add(a4,a3)"
   ]
  }
 ],
 "metadata": {
  "kernelspec": {
   "display_name": "Python 3.9.7 ('base')",
   "language": "python",
   "name": "python3"
  },
  "language_info": {
   "codemirror_mode": {
    "name": "ipython",
    "version": 3
   },
   "file_extension": ".py",
   "mimetype": "text/x-python",
   "name": "python",
   "nbconvert_exporter": "python",
   "pygments_lexer": "ipython3",
   "version": "3.9.7"
  },
  "orig_nbformat": 4,
  "vscode": {
   "interpreter": {
    "hash": "67102f693e510b408920f064fed8f652c879a90e6c1ff13ccd6f48ea2114128c"
   }
  }
 },
 "nbformat": 4,
 "nbformat_minor": 2
}
